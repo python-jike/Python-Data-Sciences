{
 "cells": [
  {
   "cell_type": "code",
   "execution_count": 48,
   "metadata": {},
   "outputs": [],
   "source": [
    "import pandas as pd\n",
    "import numpy as np\n",
    "import math\n",
    "import json\n",
    "import seaborn as sns\n",
    "import matplotlib.pyplot as plt\n",
    "%matplotlib inline\n",
    "\n",
    "\n",
    "portfolio = pd.read_json(\"data/portfolio.json\", orient='records', lines=True)\n",
    "profile = pd.read_json('data/profile.json', orient='records', lines=True)\n",
    "transcript = pd.read_json('data/transcript.json', orient='records', lines=True)"
   ]
  },
  {
   "cell_type": "code",
   "execution_count": 49,
   "metadata": {},
   "outputs": [],
   "source": [
    "sns.set()"
   ]
  },
  {
   "cell_type": "code",
   "execution_count": 50,
   "metadata": {},
   "outputs": [
    {
     "data": {
      "text/html": [
       "<div>\n",
       "<style scoped>\n",
       "    .dataframe tbody tr th:only-of-type {\n",
       "        vertical-align: middle;\n",
       "    }\n",
       "\n",
       "    .dataframe tbody tr th {\n",
       "        vertical-align: top;\n",
       "    }\n",
       "\n",
       "    .dataframe thead th {\n",
       "        text-align: right;\n",
       "    }\n",
       "</style>\n",
       "<table border=\"1\" class=\"dataframe\">\n",
       "  <thead>\n",
       "    <tr style=\"text-align: right;\">\n",
       "      <th></th>\n",
       "      <th>reward</th>\n",
       "      <th>channels</th>\n",
       "      <th>difficulty</th>\n",
       "      <th>duration</th>\n",
       "      <th>offer_type</th>\n",
       "      <th>id</th>\n",
       "    </tr>\n",
       "  </thead>\n",
       "  <tbody>\n",
       "    <tr>\n",
       "      <th>0</th>\n",
       "      <td>10</td>\n",
       "      <td>[email, mobile, social]</td>\n",
       "      <td>10</td>\n",
       "      <td>7</td>\n",
       "      <td>bogo</td>\n",
       "      <td>ae264e3637204a6fb9bb56bc8210ddfd</td>\n",
       "    </tr>\n",
       "    <tr>\n",
       "      <th>1</th>\n",
       "      <td>10</td>\n",
       "      <td>[web, email, mobile, social]</td>\n",
       "      <td>10</td>\n",
       "      <td>5</td>\n",
       "      <td>bogo</td>\n",
       "      <td>4d5c57ea9a6940dd891ad53e9dbe8da0</td>\n",
       "    </tr>\n",
       "    <tr>\n",
       "      <th>2</th>\n",
       "      <td>0</td>\n",
       "      <td>[web, email, mobile]</td>\n",
       "      <td>0</td>\n",
       "      <td>4</td>\n",
       "      <td>informational</td>\n",
       "      <td>3f207df678b143eea3cee63160fa8bed</td>\n",
       "    </tr>\n",
       "    <tr>\n",
       "      <th>3</th>\n",
       "      <td>5</td>\n",
       "      <td>[web, email, mobile]</td>\n",
       "      <td>5</td>\n",
       "      <td>7</td>\n",
       "      <td>bogo</td>\n",
       "      <td>9b98b8c7a33c4b65b9aebfe6a799e6d9</td>\n",
       "    </tr>\n",
       "    <tr>\n",
       "      <th>4</th>\n",
       "      <td>5</td>\n",
       "      <td>[web, email]</td>\n",
       "      <td>20</td>\n",
       "      <td>10</td>\n",
       "      <td>discount</td>\n",
       "      <td>0b1e1539f2cc45b7b9fa7c272da2e1d7</td>\n",
       "    </tr>\n",
       "    <tr>\n",
       "      <th>5</th>\n",
       "      <td>3</td>\n",
       "      <td>[web, email, mobile, social]</td>\n",
       "      <td>7</td>\n",
       "      <td>7</td>\n",
       "      <td>discount</td>\n",
       "      <td>2298d6c36e964ae4a3e7e9706d1fb8c2</td>\n",
       "    </tr>\n",
       "    <tr>\n",
       "      <th>6</th>\n",
       "      <td>2</td>\n",
       "      <td>[web, email, mobile, social]</td>\n",
       "      <td>10</td>\n",
       "      <td>10</td>\n",
       "      <td>discount</td>\n",
       "      <td>fafdcd668e3743c1bb461111dcafc2a4</td>\n",
       "    </tr>\n",
       "    <tr>\n",
       "      <th>7</th>\n",
       "      <td>0</td>\n",
       "      <td>[email, mobile, social]</td>\n",
       "      <td>0</td>\n",
       "      <td>3</td>\n",
       "      <td>informational</td>\n",
       "      <td>5a8bc65990b245e5a138643cd4eb9837</td>\n",
       "    </tr>\n",
       "    <tr>\n",
       "      <th>8</th>\n",
       "      <td>5</td>\n",
       "      <td>[web, email, mobile, social]</td>\n",
       "      <td>5</td>\n",
       "      <td>5</td>\n",
       "      <td>bogo</td>\n",
       "      <td>f19421c1d4aa40978ebb69ca19b0e20d</td>\n",
       "    </tr>\n",
       "    <tr>\n",
       "      <th>9</th>\n",
       "      <td>2</td>\n",
       "      <td>[web, email, mobile]</td>\n",
       "      <td>10</td>\n",
       "      <td>7</td>\n",
       "      <td>discount</td>\n",
       "      <td>2906b810c7d4411798c6938adc9daaa5</td>\n",
       "    </tr>\n",
       "  </tbody>\n",
       "</table>\n",
       "</div>"
      ],
      "text/plain": [
       "   reward                      channels  difficulty  duration     offer_type  \\\n",
       "0      10       [email, mobile, social]          10         7           bogo   \n",
       "1      10  [web, email, mobile, social]          10         5           bogo   \n",
       "2       0          [web, email, mobile]           0         4  informational   \n",
       "3       5          [web, email, mobile]           5         7           bogo   \n",
       "4       5                  [web, email]          20        10       discount   \n",
       "5       3  [web, email, mobile, social]           7         7       discount   \n",
       "6       2  [web, email, mobile, social]          10        10       discount   \n",
       "7       0       [email, mobile, social]           0         3  informational   \n",
       "8       5  [web, email, mobile, social]           5         5           bogo   \n",
       "9       2          [web, email, mobile]          10         7       discount   \n",
       "\n",
       "                                 id  \n",
       "0  ae264e3637204a6fb9bb56bc8210ddfd  \n",
       "1  4d5c57ea9a6940dd891ad53e9dbe8da0  \n",
       "2  3f207df678b143eea3cee63160fa8bed  \n",
       "3  9b98b8c7a33c4b65b9aebfe6a799e6d9  \n",
       "4  0b1e1539f2cc45b7b9fa7c272da2e1d7  \n",
       "5  2298d6c36e964ae4a3e7e9706d1fb8c2  \n",
       "6  fafdcd668e3743c1bb461111dcafc2a4  \n",
       "7  5a8bc65990b245e5a138643cd4eb9837  \n",
       "8  f19421c1d4aa40978ebb69ca19b0e20d  \n",
       "9  2906b810c7d4411798c6938adc9daaa5  "
      ]
     },
     "execution_count": 50,
     "metadata": {},
     "output_type": "execute_result"
    }
   ],
   "source": [
    "portfolio"
   ]
  },
  {
   "cell_type": "markdown",
   "metadata": {},
   "source": [
    "1. Onehot encoding for \"channels\"\n",
    "2. combine \"reward\", \"duration\", \"difficulty\" and \"offer_type\" together to create a new var\n"
   ]
  },
  {
   "cell_type": "code",
   "execution_count": 51,
   "metadata": {},
   "outputs": [],
   "source": [
    "def onehot_encoding_channels(portfolio_df):\n",
    "    channels = ['email', \"mobile\", \"social\", \"web\"]\n",
    "    for channel in channels:\n",
    "        portfolio_df[channel] = portfolio_df.channels.apply(lambda x: channel in x ) * 1\n",
    "    portfolio_df = portfolio_df.drop(\"channels\", axis = 1)\n",
    "    \n",
    "    return portfolio_df\n",
    "\n",
    "def new_portfolio_name(portfolio_df):\n",
    "    portfolio_df['name'] = portfolio_df.offer_type.astype(str) + \"_\" + portfolio_df.difficulty.astype(str) + \"_\"  + portfolio_df.reward.astype(str) + \"_\" + portfolio_df.duration.astype(str)\n",
    "    return portfolio_df\n",
    "\n",
    "def preprocessing_portfolio(portfolio_df):\n",
    "    portfolio_df = onehot_encoding_channels(portfolio_df)\n",
    "    portfolio_df = new_portfolio_name(portfolio_df)\n",
    "    return portfolio_df\n"
   ]
  },
  {
   "cell_type": "code",
   "execution_count": 52,
   "metadata": {},
   "outputs": [],
   "source": [
    "portfolio_clean = preprocessing_portfolio(portfolio)"
   ]
  },
  {
   "cell_type": "code",
   "execution_count": 53,
   "metadata": {},
   "outputs": [
    {
     "data": {
      "text/html": [
       "<div>\n",
       "<style scoped>\n",
       "    .dataframe tbody tr th:only-of-type {\n",
       "        vertical-align: middle;\n",
       "    }\n",
       "\n",
       "    .dataframe tbody tr th {\n",
       "        vertical-align: top;\n",
       "    }\n",
       "\n",
       "    .dataframe thead th {\n",
       "        text-align: right;\n",
       "    }\n",
       "</style>\n",
       "<table border=\"1\" class=\"dataframe\">\n",
       "  <thead>\n",
       "    <tr style=\"text-align: right;\">\n",
       "      <th></th>\n",
       "      <th>reward</th>\n",
       "      <th>difficulty</th>\n",
       "      <th>duration</th>\n",
       "      <th>offer_type</th>\n",
       "      <th>id</th>\n",
       "      <th>email</th>\n",
       "      <th>mobile</th>\n",
       "      <th>social</th>\n",
       "      <th>web</th>\n",
       "      <th>name</th>\n",
       "    </tr>\n",
       "  </thead>\n",
       "  <tbody>\n",
       "    <tr>\n",
       "      <th>0</th>\n",
       "      <td>10</td>\n",
       "      <td>10</td>\n",
       "      <td>7</td>\n",
       "      <td>bogo</td>\n",
       "      <td>ae264e3637204a6fb9bb56bc8210ddfd</td>\n",
       "      <td>1</td>\n",
       "      <td>1</td>\n",
       "      <td>1</td>\n",
       "      <td>0</td>\n",
       "      <td>bogo_10_10_7</td>\n",
       "    </tr>\n",
       "    <tr>\n",
       "      <th>1</th>\n",
       "      <td>10</td>\n",
       "      <td>10</td>\n",
       "      <td>5</td>\n",
       "      <td>bogo</td>\n",
       "      <td>4d5c57ea9a6940dd891ad53e9dbe8da0</td>\n",
       "      <td>1</td>\n",
       "      <td>1</td>\n",
       "      <td>1</td>\n",
       "      <td>1</td>\n",
       "      <td>bogo_10_10_5</td>\n",
       "    </tr>\n",
       "    <tr>\n",
       "      <th>2</th>\n",
       "      <td>0</td>\n",
       "      <td>0</td>\n",
       "      <td>4</td>\n",
       "      <td>informational</td>\n",
       "      <td>3f207df678b143eea3cee63160fa8bed</td>\n",
       "      <td>1</td>\n",
       "      <td>1</td>\n",
       "      <td>0</td>\n",
       "      <td>1</td>\n",
       "      <td>informational_0_0_4</td>\n",
       "    </tr>\n",
       "    <tr>\n",
       "      <th>3</th>\n",
       "      <td>5</td>\n",
       "      <td>5</td>\n",
       "      <td>7</td>\n",
       "      <td>bogo</td>\n",
       "      <td>9b98b8c7a33c4b65b9aebfe6a799e6d9</td>\n",
       "      <td>1</td>\n",
       "      <td>1</td>\n",
       "      <td>0</td>\n",
       "      <td>1</td>\n",
       "      <td>bogo_5_5_7</td>\n",
       "    </tr>\n",
       "    <tr>\n",
       "      <th>4</th>\n",
       "      <td>5</td>\n",
       "      <td>20</td>\n",
       "      <td>10</td>\n",
       "      <td>discount</td>\n",
       "      <td>0b1e1539f2cc45b7b9fa7c272da2e1d7</td>\n",
       "      <td>1</td>\n",
       "      <td>0</td>\n",
       "      <td>0</td>\n",
       "      <td>1</td>\n",
       "      <td>discount_20_5_10</td>\n",
       "    </tr>\n",
       "    <tr>\n",
       "      <th>5</th>\n",
       "      <td>3</td>\n",
       "      <td>7</td>\n",
       "      <td>7</td>\n",
       "      <td>discount</td>\n",
       "      <td>2298d6c36e964ae4a3e7e9706d1fb8c2</td>\n",
       "      <td>1</td>\n",
       "      <td>1</td>\n",
       "      <td>1</td>\n",
       "      <td>1</td>\n",
       "      <td>discount_7_3_7</td>\n",
       "    </tr>\n",
       "    <tr>\n",
       "      <th>6</th>\n",
       "      <td>2</td>\n",
       "      <td>10</td>\n",
       "      <td>10</td>\n",
       "      <td>discount</td>\n",
       "      <td>fafdcd668e3743c1bb461111dcafc2a4</td>\n",
       "      <td>1</td>\n",
       "      <td>1</td>\n",
       "      <td>1</td>\n",
       "      <td>1</td>\n",
       "      <td>discount_10_2_10</td>\n",
       "    </tr>\n",
       "    <tr>\n",
       "      <th>7</th>\n",
       "      <td>0</td>\n",
       "      <td>0</td>\n",
       "      <td>3</td>\n",
       "      <td>informational</td>\n",
       "      <td>5a8bc65990b245e5a138643cd4eb9837</td>\n",
       "      <td>1</td>\n",
       "      <td>1</td>\n",
       "      <td>1</td>\n",
       "      <td>0</td>\n",
       "      <td>informational_0_0_3</td>\n",
       "    </tr>\n",
       "    <tr>\n",
       "      <th>8</th>\n",
       "      <td>5</td>\n",
       "      <td>5</td>\n",
       "      <td>5</td>\n",
       "      <td>bogo</td>\n",
       "      <td>f19421c1d4aa40978ebb69ca19b0e20d</td>\n",
       "      <td>1</td>\n",
       "      <td>1</td>\n",
       "      <td>1</td>\n",
       "      <td>1</td>\n",
       "      <td>bogo_5_5_5</td>\n",
       "    </tr>\n",
       "    <tr>\n",
       "      <th>9</th>\n",
       "      <td>2</td>\n",
       "      <td>10</td>\n",
       "      <td>7</td>\n",
       "      <td>discount</td>\n",
       "      <td>2906b810c7d4411798c6938adc9daaa5</td>\n",
       "      <td>1</td>\n",
       "      <td>1</td>\n",
       "      <td>0</td>\n",
       "      <td>1</td>\n",
       "      <td>discount_10_2_7</td>\n",
       "    </tr>\n",
       "  </tbody>\n",
       "</table>\n",
       "</div>"
      ],
      "text/plain": [
       "   reward  difficulty  duration     offer_type  \\\n",
       "0      10          10         7           bogo   \n",
       "1      10          10         5           bogo   \n",
       "2       0           0         4  informational   \n",
       "3       5           5         7           bogo   \n",
       "4       5          20        10       discount   \n",
       "5       3           7         7       discount   \n",
       "6       2          10        10       discount   \n",
       "7       0           0         3  informational   \n",
       "8       5           5         5           bogo   \n",
       "9       2          10         7       discount   \n",
       "\n",
       "                                 id  email  mobile  social  web  \\\n",
       "0  ae264e3637204a6fb9bb56bc8210ddfd      1       1       1    0   \n",
       "1  4d5c57ea9a6940dd891ad53e9dbe8da0      1       1       1    1   \n",
       "2  3f207df678b143eea3cee63160fa8bed      1       1       0    1   \n",
       "3  9b98b8c7a33c4b65b9aebfe6a799e6d9      1       1       0    1   \n",
       "4  0b1e1539f2cc45b7b9fa7c272da2e1d7      1       0       0    1   \n",
       "5  2298d6c36e964ae4a3e7e9706d1fb8c2      1       1       1    1   \n",
       "6  fafdcd668e3743c1bb461111dcafc2a4      1       1       1    1   \n",
       "7  5a8bc65990b245e5a138643cd4eb9837      1       1       1    0   \n",
       "8  f19421c1d4aa40978ebb69ca19b0e20d      1       1       1    1   \n",
       "9  2906b810c7d4411798c6938adc9daaa5      1       1       0    1   \n",
       "\n",
       "                  name  \n",
       "0         bogo_10_10_7  \n",
       "1         bogo_10_10_5  \n",
       "2  informational_0_0_4  \n",
       "3           bogo_5_5_7  \n",
       "4     discount_20_5_10  \n",
       "5       discount_7_3_7  \n",
       "6     discount_10_2_10  \n",
       "7  informational_0_0_3  \n",
       "8           bogo_5_5_5  \n",
       "9      discount_10_2_7  "
      ]
     },
     "execution_count": 53,
     "metadata": {},
     "output_type": "execute_result"
    }
   ],
   "source": [
    "portfolio_clean"
   ]
  },
  {
   "cell_type": "code",
   "execution_count": 54,
   "metadata": {},
   "outputs": [
    {
     "name": "stdout",
     "output_type": "stream",
     "text": [
      "<class 'pandas.core.frame.DataFrame'>\n",
      "RangeIndex: 10 entries, 0 to 9\n",
      "Data columns (total 10 columns):\n",
      "reward        10 non-null int64\n",
      "difficulty    10 non-null int64\n",
      "duration      10 non-null int64\n",
      "offer_type    10 non-null object\n",
      "id            10 non-null object\n",
      "email         10 non-null int32\n",
      "mobile        10 non-null int32\n",
      "social        10 non-null int32\n",
      "web           10 non-null int32\n",
      "name          10 non-null object\n",
      "dtypes: int32(4), int64(3), object(3)\n",
      "memory usage: 768.0+ bytes\n"
     ]
    }
   ],
   "source": [
    "portfolio_clean.info()"
   ]
  },
  {
   "cell_type": "markdown",
   "metadata": {},
   "source": [
    "Well, there are 10 offers for portfolio"
   ]
  },
  {
   "cell_type": "code",
   "execution_count": 55,
   "metadata": {},
   "outputs": [
    {
     "name": "stderr",
     "output_type": "stream",
     "text": [
      "C:\\Users\\Xwt\\AppData\\Local\\Programs\\Python\\Python37\\lib\\site-packages\\pandas\\plotting\\_matplotlib\\tools.py:307: MatplotlibDeprecationWarning: \n",
      "The rowNum attribute was deprecated in Matplotlib 3.2 and will be removed two minor releases later. Use ax.get_subplotspec().rowspan.start instead.\n",
      "  layout[ax.rowNum, ax.colNum] = ax.get_visible()\n",
      "C:\\Users\\Xwt\\AppData\\Local\\Programs\\Python\\Python37\\lib\\site-packages\\pandas\\plotting\\_matplotlib\\tools.py:307: MatplotlibDeprecationWarning: \n",
      "The colNum attribute was deprecated in Matplotlib 3.2 and will be removed two minor releases later. Use ax.get_subplotspec().colspan.start instead.\n",
      "  layout[ax.rowNum, ax.colNum] = ax.get_visible()\n",
      "C:\\Users\\Xwt\\AppData\\Local\\Programs\\Python\\Python37\\lib\\site-packages\\pandas\\plotting\\_matplotlib\\tools.py:313: MatplotlibDeprecationWarning: \n",
      "The rowNum attribute was deprecated in Matplotlib 3.2 and will be removed two minor releases later. Use ax.get_subplotspec().rowspan.start instead.\n",
      "  if not layout[ax.rowNum + 1, ax.colNum]:\n",
      "C:\\Users\\Xwt\\AppData\\Local\\Programs\\Python\\Python37\\lib\\site-packages\\pandas\\plotting\\_matplotlib\\tools.py:313: MatplotlibDeprecationWarning: \n",
      "The colNum attribute was deprecated in Matplotlib 3.2 and will be removed two minor releases later. Use ax.get_subplotspec().colspan.start instead.\n",
      "  if not layout[ax.rowNum + 1, ax.colNum]:\n"
     ]
    },
    {
     "data": {
      "image/png": "[encoded data removed]",
      "text/plain": [
       "<Figure size 432x288 with 4 Axes>"
      ]
     },
     "metadata": {},
     "output_type": "display_data"
    }
   ],
   "source": [
    "portfolio_clean[['reward', 'difficulty','duration']].hist()\n",
    "plt.tight_layout()"
   ]
  },
  {
   "cell_type": "code",
   "execution_count": 56,
   "metadata": {},
   "outputs": [
    {
     "data": {
      "text/plain": [
       "<matplotlib.axes._subplots.AxesSubplot at 0x1d31b53c088>"
      ]
     },
     "execution_count": 56,
     "metadata": {},
     "output_type": "execute_result"
    },
    {
     "data": {
      "image/png": "[encoded data removed]",
      "text/plain": [
       "<Figure size 432x288 with 1 Axes>"
      ]
     },
     "metadata": {},
     "output_type": "display_data"
    }
   ],
   "source": [
    "channels = ['web', 'email', 'mobile', 'social']\n",
    "portfolio_clean.groupby('offer_type').sum()[channels].plot(kind = 'bar')"
   ]
  },
  {
   "cell_type": "markdown",
   "metadata": {},
   "source": [
    "## Profile"
   ]
  },
  {
   "cell_type": "code",
   "execution_count": 57,
   "metadata": {},
   "outputs": [
    {
     "data": {
      "text/html": [
       "<div>\n",
       "<style scoped>\n",
       "    .dataframe tbody tr th:only-of-type {\n",
       "        vertical-align: middle;\n",
       "    }\n",
       "\n",
       "    .dataframe tbody tr th {\n",
       "        vertical-align: top;\n",
       "    }\n",
       "\n",
       "    .dataframe thead th {\n",
       "        text-align: right;\n",
       "    }\n",
       "</style>\n",
       "<table border=\"1\" class=\"dataframe\">\n",
       "  <thead>\n",
       "    <tr style=\"text-align: right;\">\n",
       "      <th></th>\n",
       "      <th>gender</th>\n",
       "      <th>age</th>\n",
       "      <th>id</th>\n",
       "      <th>became_member_on</th>\n",
       "      <th>income</th>\n",
       "    </tr>\n",
       "  </thead>\n",
       "  <tbody>\n",
       "    <tr>\n",
       "      <th>0</th>\n",
       "      <td>None</td>\n",
       "      <td>118</td>\n",
       "      <td>68be06ca386d4c31939f3a4f0e3dd783</td>\n",
       "      <td>20170212</td>\n",
       "      <td>NaN</td>\n",
       "    </tr>\n",
       "    <tr>\n",
       "      <th>1</th>\n",
       "      <td>F</td>\n",
       "      <td>55</td>\n",
       "      <td>0610b486422d4921ae7d2bf64640c50b</td>\n",
       "      <td>20170715</td>\n",
       "      <td>112000.0</td>\n",
       "    </tr>\n",
       "    <tr>\n",
       "      <th>2</th>\n",
       "      <td>None</td>\n",
       "      <td>118</td>\n",
       "      <td>38fe809add3b4fcf9315a9694bb96ff5</td>\n",
       "      <td>20180712</td>\n",
       "      <td>NaN</td>\n",
       "    </tr>\n",
       "    <tr>\n",
       "      <th>3</th>\n",
       "      <td>F</td>\n",
       "      <td>75</td>\n",
       "      <td>78afa995795e4d85b5d9ceeca43f5fef</td>\n",
       "      <td>20170509</td>\n",
       "      <td>100000.0</td>\n",
       "    </tr>\n",
       "    <tr>\n",
       "      <th>4</th>\n",
       "      <td>None</td>\n",
       "      <td>118</td>\n",
       "      <td>a03223e636434f42ac4c3df47e8bac43</td>\n",
       "      <td>20170804</td>\n",
       "      <td>NaN</td>\n",
       "    </tr>\n",
       "  </tbody>\n",
       "</table>\n",
       "</div>"
      ],
      "text/plain": [
       "  gender  age                                id  became_member_on    income\n",
       "0   None  118  68be06ca386d4c31939f3a4f0e3dd783          20170212       NaN\n",
       "1      F   55  0610b486422d4921ae7d2bf64640c50b          20170715  112000.0\n",
       "2   None  118  38fe809add3b4fcf9315a9694bb96ff5          20180712       NaN\n",
       "3      F   75  78afa995795e4d85b5d9ceeca43f5fef          20170509  100000.0\n",
       "4   None  118  a03223e636434f42ac4c3df47e8bac43          20170804       NaN"
      ]
     },
     "execution_count": 57,
     "metadata": {},
     "output_type": "execute_result"
    }
   ],
   "source": [
    "profile.head()"
   ]
  },
  {
   "cell_type": "code",
   "execution_count": 58,
   "metadata": {},
   "outputs": [
    {
     "name": "stdout",
     "output_type": "stream",
     "text": [
      "<class 'pandas.core.frame.DataFrame'>\n",
      "RangeIndex: 17000 entries, 0 to 16999\n",
      "Data columns (total 5 columns):\n",
      "gender              14825 non-null object\n",
      "age                 17000 non-null int64\n",
      "id                  17000 non-null object\n",
      "became_member_on    17000 non-null int64\n",
      "income              14825 non-null float64\n",
      "dtypes: float64(1), int64(2), object(2)\n",
      "memory usage: 664.2+ KB\n"
     ]
    }
   ],
   "source": [
    "profile.info()"
   ]
  },
  {
   "cell_type": "code",
   "execution_count": 59,
   "metadata": {},
   "outputs": [
    {
     "data": {
      "text/html": [
       "<div>\n",
       "<style scoped>\n",
       "    .dataframe tbody tr th:only-of-type {\n",
       "        vertical-align: middle;\n",
       "    }\n",
       "\n",
       "    .dataframe tbody tr th {\n",
       "        vertical-align: top;\n",
       "    }\n",
       "\n",
       "    .dataframe thead th {\n",
       "        text-align: right;\n",
       "    }\n",
       "</style>\n",
       "<table border=\"1\" class=\"dataframe\">\n",
       "  <thead>\n",
       "    <tr style=\"text-align: right;\">\n",
       "      <th></th>\n",
       "      <th>age</th>\n",
       "      <th>income</th>\n",
       "    </tr>\n",
       "  </thead>\n",
       "  <tbody>\n",
       "    <tr>\n",
       "      <th>count</th>\n",
       "      <td>17000.000000</td>\n",
       "      <td>14825.000000</td>\n",
       "    </tr>\n",
       "    <tr>\n",
       "      <th>mean</th>\n",
       "      <td>62.531412</td>\n",
       "      <td>65404.991568</td>\n",
       "    </tr>\n",
       "    <tr>\n",
       "      <th>std</th>\n",
       "      <td>26.738580</td>\n",
       "      <td>21598.299410</td>\n",
       "    </tr>\n",
       "    <tr>\n",
       "      <th>min</th>\n",
       "      <td>18.000000</td>\n",
       "      <td>30000.000000</td>\n",
       "    </tr>\n",
       "    <tr>\n",
       "      <th>25%</th>\n",
       "      <td>45.000000</td>\n",
       "      <td>49000.000000</td>\n",
       "    </tr>\n",
       "    <tr>\n",
       "      <th>50%</th>\n",
       "      <td>58.000000</td>\n",
       "      <td>64000.000000</td>\n",
       "    </tr>\n",
       "    <tr>\n",
       "      <th>75%</th>\n",
       "      <td>73.000000</td>\n",
       "      <td>80000.000000</td>\n",
       "    </tr>\n",
       "    <tr>\n",
       "      <th>max</th>\n",
       "      <td>118.000000</td>\n",
       "      <td>120000.000000</td>\n",
       "    </tr>\n",
       "  </tbody>\n",
       "</table>\n",
       "</div>"
      ],
      "text/plain": [
       "                age         income\n",
       "count  17000.000000   14825.000000\n",
       "mean      62.531412   65404.991568\n",
       "std       26.738580   21598.299410\n",
       "min       18.000000   30000.000000\n",
       "25%       45.000000   49000.000000\n",
       "50%       58.000000   64000.000000\n",
       "75%       73.000000   80000.000000\n",
       "max      118.000000  120000.000000"
      ]
     },
     "execution_count": 59,
     "metadata": {},
     "output_type": "execute_result"
    }
   ],
   "source": [
    "profile[['age', 'income']].describe()"
   ]
  },
  {
   "cell_type": "code",
   "execution_count": 60,
   "metadata": {},
   "outputs": [
    {
     "name": "stderr",
     "output_type": "stream",
     "text": [
      "C:\\Users\\Xwt\\AppData\\Local\\Programs\\Python\\Python37\\lib\\site-packages\\pandas\\plotting\\_matplotlib\\tools.py:307: MatplotlibDeprecationWarning: \n",
      "The rowNum attribute was deprecated in Matplotlib 3.2 and will be removed two minor releases later. Use ax.get_subplotspec().rowspan.start instead.\n",
      "  layout[ax.rowNum, ax.colNum] = ax.get_visible()\n",
      "C:\\Users\\Xwt\\AppData\\Local\\Programs\\Python\\Python37\\lib\\site-packages\\pandas\\plotting\\_matplotlib\\tools.py:307: MatplotlibDeprecationWarning: \n",
      "The colNum attribute was deprecated in Matplotlib 3.2 and will be removed two minor releases later. Use ax.get_subplotspec().colspan.start instead.\n",
      "  layout[ax.rowNum, ax.colNum] = ax.get_visible()\n",
      "C:\\Users\\Xwt\\AppData\\Local\\Programs\\Python\\Python37\\lib\\site-packages\\pandas\\plotting\\_matplotlib\\tools.py:313: MatplotlibDeprecationWarning: \n",
      "The rowNum attribute was deprecated in Matplotlib 3.2 and will be removed two minor releases later. Use ax.get_subplotspec().rowspan.start instead.\n",
      "  if not layout[ax.rowNum + 1, ax.colNum]:\n",
      "C:\\Users\\Xwt\\AppData\\Local\\Programs\\Python\\Python37\\lib\\site-packages\\pandas\\plotting\\_matplotlib\\tools.py:313: MatplotlibDeprecationWarning: \n",
      "The colNum attribute was deprecated in Matplotlib 3.2 and will be removed two minor releases later. Use ax.get_subplotspec().colspan.start instead.\n",
      "  if not layout[ax.rowNum + 1, ax.colNum]:\n"
     ]
    },
    {
     "data": {
      "image/png": "[encoded data removed]",
      "text/plain": [
       "<Figure size 720x360 with 4 Axes>"
      ]
     },
     "metadata": {},
     "output_type": "display_data"
    }
   ],
   "source": [
    "profile[['age','income', 'became_member_on']].hist(figsize = (10,5))\n",
    "plt.tight_layout()"
   ]
  },
  {
   "cell_type": "code",
   "execution_count": 61,
   "metadata": {},
   "outputs": [
    {
     "data": {
      "text/plain": [
       "118    2175\n",
       "Name: age, dtype: int64"
      ]
     },
     "execution_count": 61,
     "metadata": {},
     "output_type": "execute_result"
    }
   ],
   "source": [
    "profile[profile['age'] == 118]['age'].value_counts()"
   ]
  },
  {
   "cell_type": "code",
   "execution_count": 62,
   "metadata": {},
   "outputs": [
    {
     "data": {
      "text/plain": [
       "gender              2175\n",
       "age                    0\n",
       "id                     0\n",
       "became_member_on       0\n",
       "income              2175\n",
       "dtype: int64"
      ]
     },
     "execution_count": 62,
     "metadata": {},
     "output_type": "execute_result"
    }
   ],
   "source": [
    "profile.isnull().sum()"
   ]
  },
  {
   "cell_type": "code",
   "execution_count": 63,
   "metadata": {},
   "outputs": [
    {
     "data": {
      "image/png": "[encoded data removed]",
      "text/plain": [
       "<Figure size 720x360 with 3 Axes>"
      ]
     },
     "metadata": {},
     "output_type": "display_data"
    }
   ],
   "source": [
    "\"\"\" GENDER \"\"\"\n",
    "\n",
    "f, (ax1, ax2, ax3) = plt.subplots(1, 3 , figsize = (10,5))\n",
    "\n",
    "profile.gender.value_counts().plot(kind = 'bar', ax = ax1)\n",
    "ax1.set_xticklabels(ax1.get_xticklabels(), rotation = 0)\n",
    "ax1.set_title(\"Gender Distribution\")\n",
    "ax1.set_ylabel(\"Count\")\n",
    "\n",
    "\n",
    "ax2.hist(profile[profile.gender == 'M']['income'], alpha = 0.5, label = 'M')\n",
    "ax2.hist(profile[profile.gender == 'F']['income'], alpha = 0.5, label = 'F')\n",
    "ax2.hist(profile[profile.gender == 'O']['income'], alpha = 0.5, label = 'O')\n",
    "\n",
    "sns.boxplot(\"gender\", \"income\",data = profile, order = ['M', 'F', 'O'] ,ax = ax3)\n",
    "\n",
    "plt.tight_layout()\n"
   ]
  },
  {
   "cell_type": "code",
   "execution_count": 64,
   "metadata": {
    "scrolled": true
   },
   "outputs": [
    {
     "data": {
      "text/html": [
       "<div>\n",
       "<style scoped>\n",
       "    .dataframe tbody tr th:only-of-type {\n",
       "        vertical-align: middle;\n",
       "    }\n",
       "\n",
       "    .dataframe tbody tr th {\n",
       "        vertical-align: top;\n",
       "    }\n",
       "\n",
       "    .dataframe thead th {\n",
       "        text-align: right;\n",
       "    }\n",
       "</style>\n",
       "<table border=\"1\" class=\"dataframe\">\n",
       "  <thead>\n",
       "    <tr style=\"text-align: right;\">\n",
       "      <th></th>\n",
       "      <th>count</th>\n",
       "      <th>mean</th>\n",
       "      <th>std</th>\n",
       "      <th>min</th>\n",
       "      <th>25%</th>\n",
       "      <th>50%</th>\n",
       "      <th>75%</th>\n",
       "      <th>max</th>\n",
       "    </tr>\n",
       "    <tr>\n",
       "      <th>gender</th>\n",
       "      <th></th>\n",
       "      <th></th>\n",
       "      <th></th>\n",
       "      <th></th>\n",
       "      <th></th>\n",
       "      <th></th>\n",
       "      <th></th>\n",
       "      <th></th>\n",
       "    </tr>\n",
       "  </thead>\n",
       "  <tbody>\n",
       "    <tr>\n",
       "      <th>F</th>\n",
       "      <td>6129.0</td>\n",
       "      <td>71306.412139</td>\n",
       "      <td>22338.353773</td>\n",
       "      <td>30000.0</td>\n",
       "      <td>54000.0</td>\n",
       "      <td>71000.0</td>\n",
       "      <td>88000.0</td>\n",
       "      <td>120000.0</td>\n",
       "    </tr>\n",
       "    <tr>\n",
       "      <th>M</th>\n",
       "      <td>8484.0</td>\n",
       "      <td>61194.601603</td>\n",
       "      <td>20069.517615</td>\n",
       "      <td>30000.0</td>\n",
       "      <td>45000.0</td>\n",
       "      <td>59000.0</td>\n",
       "      <td>73000.0</td>\n",
       "      <td>120000.0</td>\n",
       "    </tr>\n",
       "    <tr>\n",
       "      <th>O</th>\n",
       "      <td>212.0</td>\n",
       "      <td>63287.735849</td>\n",
       "      <td>18938.594726</td>\n",
       "      <td>30000.0</td>\n",
       "      <td>51000.0</td>\n",
       "      <td>62000.0</td>\n",
       "      <td>79250.0</td>\n",
       "      <td>100000.0</td>\n",
       "    </tr>\n",
       "  </tbody>\n",
       "</table>\n",
       "</div>"
      ],
      "text/plain": [
       "         count          mean           std      min      25%      50%  \\\n",
       "gender                                                                  \n",
       "F       6129.0  71306.412139  22338.353773  30000.0  54000.0  71000.0   \n",
       "M       8484.0  61194.601603  20069.517615  30000.0  45000.0  59000.0   \n",
       "O        212.0  63287.735849  18938.594726  30000.0  51000.0  62000.0   \n",
       "\n",
       "            75%       max  \n",
       "gender                     \n",
       "F       88000.0  120000.0  \n",
       "M       73000.0  120000.0  \n",
       "O       79250.0  100000.0  "
      ]
     },
     "execution_count": 64,
     "metadata": {},
     "output_type": "execute_result"
    }
   ],
   "source": [
    "profile.groupby('gender').describe()['income']"
   ]
  },
  {
   "cell_type": "code",
   "execution_count": null,
   "metadata": {},
   "outputs": [],
   "source": []
  },
  {
   "cell_type": "markdown",
   "metadata": {},
   "source": [
    "### Datetime"
   ]
  },
  {
   "cell_type": "code",
   "execution_count": 65,
   "metadata": {},
   "outputs": [],
   "source": [
    "def profile_parse_dates(profile):\n",
    "    profile_df = profile.copy()\n",
    "    \n",
    "    profile_df['became_member_on'] = profile_df.became_member_on.apply( lambda x: str(x))\n",
    "    profile_df['became_member_on'] = pd.to_datetime(profile_df['became_member_on'])\n",
    "    \n",
    "    return profile_df\n",
    "\n",
    "profile_clean = profile_parse_dates(profile)"
   ]
  },
  {
   "cell_type": "code",
   "execution_count": 66,
   "metadata": {},
   "outputs": [
    {
     "data": {
      "text/plain": [
       "0       2017-02-12\n",
       "1       2017-07-15\n",
       "2       2018-07-12\n",
       "3       2017-05-09\n",
       "4       2017-08-04\n",
       "           ...    \n",
       "16995   2018-06-04\n",
       "16996   2018-07-13\n",
       "16997   2017-01-26\n",
       "16998   2016-03-07\n",
       "16999   2017-07-22\n",
       "Name: became_member_on, Length: 17000, dtype: datetime64[ns]"
      ]
     },
     "execution_count": 66,
     "metadata": {},
     "output_type": "execute_result"
    }
   ],
   "source": [
    "profile_clean.became_member_on"
   ]
  },
  {
   "cell_type": "code",
   "execution_count": 67,
   "metadata": {},
   "outputs": [
    {
     "data": {
      "text/plain": [
       "Text(0.5, 1.0, 'Distribution of became_member_on')"
      ]
     },
     "execution_count": 67,
     "metadata": {},
     "output_type": "execute_result"
    },
    {
     "data": {
      "image/png": "[encoded data removed]",
      "text/plain": [
       "<Figure size 432x288 with 1 Axes>"
      ]
     },
     "metadata": {},
     "output_type": "display_data"
    }
   ],
   "source": [
    "profile_clean.became_member_on.hist()\n",
    "plt.xlabel(\"Became member on year\")\n",
    "plt.title(\"Distribution of became_member_on\")"
   ]
  },
  {
   "cell_type": "markdown",
   "metadata": {},
   "source": [
    "## Missing data"
   ]
  },
  {
   "cell_type": "code",
   "execution_count": 68,
   "metadata": {},
   "outputs": [
    {
     "data": {
      "text/plain": [
       "gender              2175\n",
       "age                    0\n",
       "id                     0\n",
       "became_member_on       0\n",
       "income              2175\n",
       "dtype: int64"
      ]
     },
     "execution_count": 68,
     "metadata": {},
     "output_type": "execute_result"
    }
   ],
   "source": [
    "profile_clean.isnull().sum()"
   ]
  },
  {
   "cell_type": "code",
   "execution_count": 69,
   "metadata": {},
   "outputs": [
    {
     "data": {
      "text/plain": [
       "Text(0.5, 1.0, 'Profiles with missing values')"
      ]
     },
     "execution_count": 69,
     "metadata": {},
     "output_type": "execute_result"
    },
    {
     "data": {
      "image/png": "[encoded data removed]",
      "text/plain": [
       "<Figure size 432x288 with 1 Axes>"
      ]
     },
     "metadata": {},
     "output_type": "display_data"
    }
   ],
   "source": [
    "row_null = profile_clean.isnull().sum(axis = 1)\n",
    "row_null.value_counts().plot(kind = 'bar')\n",
    "plt.xlabel(\"Missing value\")\n",
    "plt.xticks(rotation = 0)\n",
    "plt.ylabel(\"Number of data rows\")\n",
    "plt.title(\"Profiles with missing values\")"
   ]
  },
  {
   "cell_type": "code",
   "execution_count": 70,
   "metadata": {},
   "outputs": [
    {
     "data": {
      "image/png": "[encoded data removed]",
      "text/plain": [
       "<Figure size 720x360 with 2 Axes>"
      ]
     },
     "metadata": {},
     "output_type": "display_data"
    },
    {
     "data": {
      "image/png": "[encoded data removed]",
      "text/plain": [
       "<Figure size 720x360 with 2 Axes>"
      ]
     },
     "metadata": {},
     "output_type": "display_data"
    },
    {
     "data": {
      "image/png": "[encoded data removed]",
      "text/plain": [
       "<Figure size 720x360 with 2 Axes>"
      ]
     },
     "metadata": {},
     "output_type": "display_data"
    },
    {
     "data": {
      "image/png": "[encoded data removed]",
      "text/plain": [
       "<Figure size 720x360 with 2 Axes>"
      ]
     },
     "metadata": {},
     "output_type": "display_data"
    }
   ],
   "source": [
    "\"\"\"Compare data with missing values with no missing values\"\"\"\n",
    "profile_null = profile_clean[row_null == 0]\n",
    "profile_not = profile_clean[row_null > 0]\n",
    "\n",
    "\n",
    "for col in ['age', 'became_member_on', 'gender', \"income\"]:\n",
    "    f, (ax1, ax2) = plt.subplots(1,2, figsize = (10,5))\n",
    "    \n",
    "    if col == 'gender':\n",
    "        profile_null[col].value_counts().plot(kind = 'bar',ax = ax1)\n",
    "        try:\n",
    "            profile_not[col].value_counts().plot(kind = 'bar', ax = ax2)\n",
    "        except:\n",
    "            pass\n",
    "        \n",
    "    else:\n",
    "        profile_null[col].hist(ax= ax1)\n",
    "        profile_not[col].hist(ax = ax2)\n",
    "    \n",
    "    ax1.set_title(\"no missing data\")\n",
    "    ax2.set_title(\"with missing data\")\n",
    "    f.suptitle(\"Feature: \" + col)\n",
    "    f.tight_layout()\n",
    "\n",
    "\n"
   ]
  },
  {
   "cell_type": "markdown",
   "metadata": {},
   "source": [
    "Summary:\n",
    "    1. there're 2175 missing data in the total 170000 profile.\n",
    "    2. The age with 118 is the abnormalities data and they're related to the missing data in income and gender data. Probably they don't want to share info with us. We will investigate them in the future.\n",
    "    3. Most of customers are male, while the average income of females ($71306) are higher than males($61194) "
   ]
  },
  {
   "cell_type": "markdown",
   "metadata": {},
   "source": [
    "## Transcript"
   ]
  },
  {
   "cell_type": "code",
   "execution_count": 71,
   "metadata": {},
   "outputs": [
    {
     "data": {
      "text/html": [
       "<div>\n",
       "<style scoped>\n",
       "    .dataframe tbody tr th:only-of-type {\n",
       "        vertical-align: middle;\n",
       "    }\n",
       "\n",
       "    .dataframe tbody tr th {\n",
       "        vertical-align: top;\n",
       "    }\n",
       "\n",
       "    .dataframe thead th {\n",
       "        text-align: right;\n",
       "    }\n",
       "</style>\n",
       "<table border=\"1\" class=\"dataframe\">\n",
       "  <thead>\n",
       "    <tr style=\"text-align: right;\">\n",
       "      <th></th>\n",
       "      <th>person</th>\n",
       "      <th>event</th>\n",
       "      <th>value</th>\n",
       "      <th>time</th>\n",
       "    </tr>\n",
       "  </thead>\n",
       "  <tbody>\n",
       "    <tr>\n",
       "      <th>0</th>\n",
       "      <td>78afa995795e4d85b5d9ceeca43f5fef</td>\n",
       "      <td>offer received</td>\n",
       "      <td>{'offer id': '9b98b8c7a33c4b65b9aebfe6a799e6d9'}</td>\n",
       "      <td>0</td>\n",
       "    </tr>\n",
       "    <tr>\n",
       "      <th>1</th>\n",
       "      <td>a03223e636434f42ac4c3df47e8bac43</td>\n",
       "      <td>offer received</td>\n",
       "      <td>{'offer id': '0b1e1539f2cc45b7b9fa7c272da2e1d7'}</td>\n",
       "      <td>0</td>\n",
       "    </tr>\n",
       "    <tr>\n",
       "      <th>2</th>\n",
       "      <td>e2127556f4f64592b11af22de27a7932</td>\n",
       "      <td>offer received</td>\n",
       "      <td>{'offer id': '2906b810c7d4411798c6938adc9daaa5'}</td>\n",
       "      <td>0</td>\n",
       "    </tr>\n",
       "    <tr>\n",
       "      <th>3</th>\n",
       "      <td>8ec6ce2a7e7949b1bf142def7d0e0586</td>\n",
       "      <td>offer received</td>\n",
       "      <td>{'offer id': 'fafdcd668e3743c1bb461111dcafc2a4'}</td>\n",
       "      <td>0</td>\n",
       "    </tr>\n",
       "    <tr>\n",
       "      <th>4</th>\n",
       "      <td>68617ca6246f4fbc85e91a2a49552598</td>\n",
       "      <td>offer received</td>\n",
       "      <td>{'offer id': '4d5c57ea9a6940dd891ad53e9dbe8da0'}</td>\n",
       "      <td>0</td>\n",
       "    </tr>\n",
       "  </tbody>\n",
       "</table>\n",
       "</div>"
      ],
      "text/plain": [
       "                             person           event  \\\n",
       "0  78afa995795e4d85b5d9ceeca43f5fef  offer received   \n",
       "1  a03223e636434f42ac4c3df47e8bac43  offer received   \n",
       "2  e2127556f4f64592b11af22de27a7932  offer received   \n",
       "3  8ec6ce2a7e7949b1bf142def7d0e0586  offer received   \n",
       "4  68617ca6246f4fbc85e91a2a49552598  offer received   \n",
       "\n",
       "                                              value  time  \n",
       "0  {'offer id': '9b98b8c7a33c4b65b9aebfe6a799e6d9'}     0  \n",
       "1  {'offer id': '0b1e1539f2cc45b7b9fa7c272da2e1d7'}     0  \n",
       "2  {'offer id': '2906b810c7d4411798c6938adc9daaa5'}     0  \n",
       "3  {'offer id': 'fafdcd668e3743c1bb461111dcafc2a4'}     0  \n",
       "4  {'offer id': '4d5c57ea9a6940dd891ad53e9dbe8da0'}     0  "
      ]
     },
     "execution_count": 71,
     "metadata": {},
     "output_type": "execute_result"
    }
   ],
   "source": [
    "transcript.head()"
   ]
  },
  {
   "cell_type": "code",
   "execution_count": 72,
   "metadata": {},
   "outputs": [
    {
     "name": "stdout",
     "output_type": "stream",
     "text": [
      "<class 'pandas.core.frame.DataFrame'>\n",
      "RangeIndex: 306534 entries, 0 to 306533\n",
      "Data columns (total 4 columns):\n",
      "person    306534 non-null object\n",
      "event     306534 non-null object\n",
      "value     306534 non-null object\n",
      "time      306534 non-null int64\n",
      "dtypes: int64(1), object(3)\n",
      "memory usage: 9.4+ MB\n"
     ]
    }
   ],
   "source": [
    "transcript.info()"
   ]
  },
  {
   "cell_type": "code",
   "execution_count": 73,
   "metadata": {},
   "outputs": [
    {
     "data": {
      "text/html": [
       "<div>\n",
       "<style scoped>\n",
       "    .dataframe tbody tr th:only-of-type {\n",
       "        vertical-align: middle;\n",
       "    }\n",
       "\n",
       "    .dataframe tbody tr th {\n",
       "        vertical-align: top;\n",
       "    }\n",
       "\n",
       "    .dataframe thead th {\n",
       "        text-align: right;\n",
       "    }\n",
       "</style>\n",
       "<table border=\"1\" class=\"dataframe\">\n",
       "  <thead>\n",
       "    <tr style=\"text-align: right;\">\n",
       "      <th></th>\n",
       "      <th>time</th>\n",
       "    </tr>\n",
       "  </thead>\n",
       "  <tbody>\n",
       "    <tr>\n",
       "      <th>count</th>\n",
       "      <td>306534.000000</td>\n",
       "    </tr>\n",
       "    <tr>\n",
       "      <th>mean</th>\n",
       "      <td>366.382940</td>\n",
       "    </tr>\n",
       "    <tr>\n",
       "      <th>std</th>\n",
       "      <td>200.326314</td>\n",
       "    </tr>\n",
       "    <tr>\n",
       "      <th>min</th>\n",
       "      <td>0.000000</td>\n",
       "    </tr>\n",
       "    <tr>\n",
       "      <th>25%</th>\n",
       "      <td>186.000000</td>\n",
       "    </tr>\n",
       "    <tr>\n",
       "      <th>50%</th>\n",
       "      <td>408.000000</td>\n",
       "    </tr>\n",
       "    <tr>\n",
       "      <th>75%</th>\n",
       "      <td>528.000000</td>\n",
       "    </tr>\n",
       "    <tr>\n",
       "      <th>max</th>\n",
       "      <td>714.000000</td>\n",
       "    </tr>\n",
       "  </tbody>\n",
       "</table>\n",
       "</div>"
      ],
      "text/plain": [
       "                time\n",
       "count  306534.000000\n",
       "mean      366.382940\n",
       "std       200.326314\n",
       "min         0.000000\n",
       "25%       186.000000\n",
       "50%       408.000000\n",
       "75%       528.000000\n",
       "max       714.000000"
      ]
     },
     "execution_count": 73,
     "metadata": {},
     "output_type": "execute_result"
    }
   ],
   "source": [
    "transcript.describe()"
   ]
  },
  {
   "cell_type": "code",
   "execution_count": 74,
   "metadata": {},
   "outputs": [
    {
     "data": {
      "text/plain": [
       "person    0\n",
       "event     0\n",
       "value     0\n",
       "time      0\n",
       "dtype: int64"
      ]
     },
     "execution_count": 74,
     "metadata": {},
     "output_type": "execute_result"
    }
   ],
   "source": [
    "transcript.isnull().sum()"
   ]
  },
  {
   "cell_type": "code",
   "execution_count": 75,
   "metadata": {},
   "outputs": [
    {
     "data": {
      "text/plain": [
       "transaction        138953\n",
       "offer received      76277\n",
       "offer viewed        57725\n",
       "offer completed     33579\n",
       "Name: event, dtype: int64"
      ]
     },
     "execution_count": 75,
     "metadata": {},
     "output_type": "execute_result"
    }
   ],
   "source": [
    "transcript.event.value_counts()"
   ]
  },
  {
   "cell_type": "code",
   "execution_count": 76,
   "metadata": {},
   "outputs": [
    {
     "data": {
      "text/plain": [
       "17000"
      ]
     },
     "execution_count": 76,
     "metadata": {},
     "output_type": "execute_result"
    }
   ],
   "source": [
    "transcript.person.nunique()"
   ]
  },
  {
   "cell_type": "markdown",
   "metadata": {},
   "source": [
    "all the people in profile are also avaible in transcript"
   ]
  },
  {
   "cell_type": "markdown",
   "metadata": {},
   "source": [
    "### Transcript Processing "
   ]
  },
  {
   "cell_type": "code",
   "execution_count": 77,
   "metadata": {},
   "outputs": [
    {
     "data": {
      "text/html": [
       "<div>\n",
       "<style scoped>\n",
       "    .dataframe tbody tr th:only-of-type {\n",
       "        vertical-align: middle;\n",
       "    }\n",
       "\n",
       "    .dataframe tbody tr th {\n",
       "        vertical-align: top;\n",
       "    }\n",
       "\n",
       "    .dataframe thead th {\n",
       "        text-align: right;\n",
       "    }\n",
       "</style>\n",
       "<table border=\"1\" class=\"dataframe\">\n",
       "  <thead>\n",
       "    <tr style=\"text-align: right;\">\n",
       "      <th></th>\n",
       "      <th>person</th>\n",
       "      <th>event</th>\n",
       "      <th>value</th>\n",
       "      <th>time</th>\n",
       "      <th>offer_id</th>\n",
       "      <th>amount</th>\n",
       "    </tr>\n",
       "  </thead>\n",
       "  <tbody>\n",
       "    <tr>\n",
       "      <th>0</th>\n",
       "      <td>78afa995795e4d85b5d9ceeca43f5fef</td>\n",
       "      <td>offer received</td>\n",
       "      <td>{'offer id': '9b98b8c7a33c4b65b9aebfe6a799e6d9'}</td>\n",
       "      <td>0</td>\n",
       "      <td>9b98b8c7a33c4b65b9aebfe6a799e6d9</td>\n",
       "      <td>NaN</td>\n",
       "    </tr>\n",
       "    <tr>\n",
       "      <th>1</th>\n",
       "      <td>a03223e636434f42ac4c3df47e8bac43</td>\n",
       "      <td>offer received</td>\n",
       "      <td>{'offer id': '0b1e1539f2cc45b7b9fa7c272da2e1d7'}</td>\n",
       "      <td>0</td>\n",
       "      <td>0b1e1539f2cc45b7b9fa7c272da2e1d7</td>\n",
       "      <td>NaN</td>\n",
       "    </tr>\n",
       "    <tr>\n",
       "      <th>2</th>\n",
       "      <td>e2127556f4f64592b11af22de27a7932</td>\n",
       "      <td>offer received</td>\n",
       "      <td>{'offer id': '2906b810c7d4411798c6938adc9daaa5'}</td>\n",
       "      <td>0</td>\n",
       "      <td>2906b810c7d4411798c6938adc9daaa5</td>\n",
       "      <td>NaN</td>\n",
       "    </tr>\n",
       "    <tr>\n",
       "      <th>3</th>\n",
       "      <td>8ec6ce2a7e7949b1bf142def7d0e0586</td>\n",
       "      <td>offer received</td>\n",
       "      <td>{'offer id': 'fafdcd668e3743c1bb461111dcafc2a4'}</td>\n",
       "      <td>0</td>\n",
       "      <td>fafdcd668e3743c1bb461111dcafc2a4</td>\n",
       "      <td>NaN</td>\n",
       "    </tr>\n",
       "    <tr>\n",
       "      <th>4</th>\n",
       "      <td>68617ca6246f4fbc85e91a2a49552598</td>\n",
       "      <td>offer received</td>\n",
       "      <td>{'offer id': '4d5c57ea9a6940dd891ad53e9dbe8da0'}</td>\n",
       "      <td>0</td>\n",
       "      <td>4d5c57ea9a6940dd891ad53e9dbe8da0</td>\n",
       "      <td>NaN</td>\n",
       "    </tr>\n",
       "  </tbody>\n",
       "</table>\n",
       "</div>"
      ],
      "text/plain": [
       "                             person           event  \\\n",
       "0  78afa995795e4d85b5d9ceeca43f5fef  offer received   \n",
       "1  a03223e636434f42ac4c3df47e8bac43  offer received   \n",
       "2  e2127556f4f64592b11af22de27a7932  offer received   \n",
       "3  8ec6ce2a7e7949b1bf142def7d0e0586  offer received   \n",
       "4  68617ca6246f4fbc85e91a2a49552598  offer received   \n",
       "\n",
       "                                              value  time  \\\n",
       "0  {'offer id': '9b98b8c7a33c4b65b9aebfe6a799e6d9'}     0   \n",
       "1  {'offer id': '0b1e1539f2cc45b7b9fa7c272da2e1d7'}     0   \n",
       "2  {'offer id': '2906b810c7d4411798c6938adc9daaa5'}     0   \n",
       "3  {'offer id': 'fafdcd668e3743c1bb461111dcafc2a4'}     0   \n",
       "4  {'offer id': '4d5c57ea9a6940dd891ad53e9dbe8da0'}     0   \n",
       "\n",
       "                           offer_id  amount  \n",
       "0  9b98b8c7a33c4b65b9aebfe6a799e6d9     NaN  \n",
       "1  0b1e1539f2cc45b7b9fa7c272da2e1d7     NaN  \n",
       "2  2906b810c7d4411798c6938adc9daaa5     NaN  \n",
       "3  fafdcd668e3743c1bb461111dcafc2a4     NaN  \n",
       "4  4d5c57ea9a6940dd891ad53e9dbe8da0     NaN  "
      ]
     },
     "execution_count": 77,
     "metadata": {},
     "output_type": "execute_result"
    }
   ],
   "source": [
    "def encode_offer_id(x):\n",
    "    try:\n",
    "        return x['offer id']\n",
    "    except:\n",
    "        return x['offer_id']\n",
    "\n",
    "def transcript_encode(transcript_df):\n",
    "    transcript_encoded = transcript_df.copy()\n",
    "    \n",
    "    transcript_encoded['offer_id'] = transcript[transcript.event.isin(['offer received', 'offer viewed', 'offer completed'])].value.apply(encode_offer_id)\n",
    "    transcript_encoded['amount'] = transcript[transcript.event.isin(['transaction'])].value.apply( lambda x :x['amount'])\n",
    "    '''transaction is different from the received offer, which contains amount, can be used to calculate the money'''\n",
    "    return transcript_encoded\n",
    "\n",
    "transcript_encode(transcript).head()"
   ]
  },
  {
   "cell_type": "code",
   "execution_count": null,
   "metadata": {},
   "outputs": [],
   "source": []
  },
  {
   "cell_type": "code",
   "execution_count": 78,
   "metadata": {},
   "outputs": [
    {
     "data": {
      "text/plain": [
       "transaction        138953\n",
       "offer received      76277\n",
       "offer viewed        57725\n",
       "offer completed     33579\n",
       "Name: event, dtype: int64"
      ]
     },
     "execution_count": 78,
     "metadata": {},
     "output_type": "execute_result"
    }
   ],
   "source": [
    "transcript.event.value_counts()"
   ]
  },
  {
   "cell_type": "code",
   "execution_count": 79,
   "metadata": {
    "scrolled": true
   },
   "outputs": [
    {
     "data": {
      "text/html": [
       "<div>\n",
       "<style scoped>\n",
       "    .dataframe tbody tr th:only-of-type {\n",
       "        vertical-align: middle;\n",
       "    }\n",
       "\n",
       "    .dataframe tbody tr th {\n",
       "        vertical-align: top;\n",
       "    }\n",
       "\n",
       "    .dataframe thead th {\n",
       "        text-align: right;\n",
       "    }\n",
       "</style>\n",
       "<table border=\"1\" class=\"dataframe\">\n",
       "  <thead>\n",
       "    <tr style=\"text-align: right;\">\n",
       "      <th></th>\n",
       "      <th>person</th>\n",
       "      <th>event</th>\n",
       "      <th>value</th>\n",
       "      <th>time</th>\n",
       "      <th>offer_id</th>\n",
       "      <th>amount</th>\n",
       "      <th>gender</th>\n",
       "      <th>age</th>\n",
       "      <th>became_member_on</th>\n",
       "      <th>income</th>\n",
       "      <th>reward</th>\n",
       "      <th>difficulty</th>\n",
       "      <th>duration</th>\n",
       "      <th>offer_type</th>\n",
       "      <th>email</th>\n",
       "      <th>mobile</th>\n",
       "      <th>social</th>\n",
       "      <th>web</th>\n",
       "      <th>name</th>\n",
       "    </tr>\n",
       "  </thead>\n",
       "  <tbody>\n",
       "    <tr>\n",
       "      <th>0</th>\n",
       "      <td>78afa995795e4d85b5d9ceeca43f5fef</td>\n",
       "      <td>offer received</td>\n",
       "      <td>{'offer id': '9b98b8c7a33c4b65b9aebfe6a799e6d9'}</td>\n",
       "      <td>0</td>\n",
       "      <td>9b98b8c7a33c4b65b9aebfe6a799e6d9</td>\n",
       "      <td>NaN</td>\n",
       "      <td>F</td>\n",
       "      <td>75</td>\n",
       "      <td>2017-05-09</td>\n",
       "      <td>100000.0</td>\n",
       "      <td>5.0</td>\n",
       "      <td>5.0</td>\n",
       "      <td>7.0</td>\n",
       "      <td>bogo</td>\n",
       "      <td>1.0</td>\n",
       "      <td>1.0</td>\n",
       "      <td>0.0</td>\n",
       "      <td>1.0</td>\n",
       "      <td>bogo_5_5_7</td>\n",
       "    </tr>\n",
       "    <tr>\n",
       "      <th>1</th>\n",
       "      <td>a03223e636434f42ac4c3df47e8bac43</td>\n",
       "      <td>offer received</td>\n",
       "      <td>{'offer id': '0b1e1539f2cc45b7b9fa7c272da2e1d7'}</td>\n",
       "      <td>0</td>\n",
       "      <td>0b1e1539f2cc45b7b9fa7c272da2e1d7</td>\n",
       "      <td>NaN</td>\n",
       "      <td>None</td>\n",
       "      <td>118</td>\n",
       "      <td>2017-08-04</td>\n",
       "      <td>NaN</td>\n",
       "      <td>5.0</td>\n",
       "      <td>20.0</td>\n",
       "      <td>10.0</td>\n",
       "      <td>discount</td>\n",
       "      <td>1.0</td>\n",
       "      <td>0.0</td>\n",
       "      <td>0.0</td>\n",
       "      <td>1.0</td>\n",
       "      <td>discount_20_5_10</td>\n",
       "    </tr>\n",
       "    <tr>\n",
       "      <th>2</th>\n",
       "      <td>e2127556f4f64592b11af22de27a7932</td>\n",
       "      <td>offer received</td>\n",
       "      <td>{'offer id': '2906b810c7d4411798c6938adc9daaa5'}</td>\n",
       "      <td>0</td>\n",
       "      <td>2906b810c7d4411798c6938adc9daaa5</td>\n",
       "      <td>NaN</td>\n",
       "      <td>M</td>\n",
       "      <td>68</td>\n",
       "      <td>2018-04-26</td>\n",
       "      <td>70000.0</td>\n",
       "      <td>2.0</td>\n",
       "      <td>10.0</td>\n",
       "      <td>7.0</td>\n",
       "      <td>discount</td>\n",
       "      <td>1.0</td>\n",
       "      <td>1.0</td>\n",
       "      <td>0.0</td>\n",
       "      <td>1.0</td>\n",
       "      <td>discount_10_2_7</td>\n",
       "    </tr>\n",
       "    <tr>\n",
       "      <th>3</th>\n",
       "      <td>8ec6ce2a7e7949b1bf142def7d0e0586</td>\n",
       "      <td>offer received</td>\n",
       "      <td>{'offer id': 'fafdcd668e3743c1bb461111dcafc2a4'}</td>\n",
       "      <td>0</td>\n",
       "      <td>fafdcd668e3743c1bb461111dcafc2a4</td>\n",
       "      <td>NaN</td>\n",
       "      <td>None</td>\n",
       "      <td>118</td>\n",
       "      <td>2017-09-25</td>\n",
       "      <td>NaN</td>\n",
       "      <td>2.0</td>\n",
       "      <td>10.0</td>\n",
       "      <td>10.0</td>\n",
       "      <td>discount</td>\n",
       "      <td>1.0</td>\n",
       "      <td>1.0</td>\n",
       "      <td>1.0</td>\n",
       "      <td>1.0</td>\n",
       "      <td>discount_10_2_10</td>\n",
       "    </tr>\n",
       "    <tr>\n",
       "      <th>4</th>\n",
       "      <td>68617ca6246f4fbc85e91a2a49552598</td>\n",
       "      <td>offer received</td>\n",
       "      <td>{'offer id': '4d5c57ea9a6940dd891ad53e9dbe8da0'}</td>\n",
       "      <td>0</td>\n",
       "      <td>4d5c57ea9a6940dd891ad53e9dbe8da0</td>\n",
       "      <td>NaN</td>\n",
       "      <td>None</td>\n",
       "      <td>118</td>\n",
       "      <td>2017-10-02</td>\n",
       "      <td>NaN</td>\n",
       "      <td>10.0</td>\n",
       "      <td>10.0</td>\n",
       "      <td>5.0</td>\n",
       "      <td>bogo</td>\n",
       "      <td>1.0</td>\n",
       "      <td>1.0</td>\n",
       "      <td>1.0</td>\n",
       "      <td>1.0</td>\n",
       "      <td>bogo_10_10_5</td>\n",
       "    </tr>\n",
       "  </tbody>\n",
       "</table>\n",
       "</div>"
      ],
      "text/plain": [
       "                             person           event  \\\n",
       "0  78afa995795e4d85b5d9ceeca43f5fef  offer received   \n",
       "1  a03223e636434f42ac4c3df47e8bac43  offer received   \n",
       "2  e2127556f4f64592b11af22de27a7932  offer received   \n",
       "3  8ec6ce2a7e7949b1bf142def7d0e0586  offer received   \n",
       "4  68617ca6246f4fbc85e91a2a49552598  offer received   \n",
       "\n",
       "                                              value  time  \\\n",
       "0  {'offer id': '9b98b8c7a33c4b65b9aebfe6a799e6d9'}     0   \n",
       "1  {'offer id': '0b1e1539f2cc45b7b9fa7c272da2e1d7'}     0   \n",
       "2  {'offer id': '2906b810c7d4411798c6938adc9daaa5'}     0   \n",
       "3  {'offer id': 'fafdcd668e3743c1bb461111dcafc2a4'}     0   \n",
       "4  {'offer id': '4d5c57ea9a6940dd891ad53e9dbe8da0'}     0   \n",
       "\n",
       "                           offer_id  amount gender  age became_member_on  \\\n",
       "0  9b98b8c7a33c4b65b9aebfe6a799e6d9     NaN      F   75       2017-05-09   \n",
       "1  0b1e1539f2cc45b7b9fa7c272da2e1d7     NaN   None  118       2017-08-04   \n",
       "2  2906b810c7d4411798c6938adc9daaa5     NaN      M   68       2018-04-26   \n",
       "3  fafdcd668e3743c1bb461111dcafc2a4     NaN   None  118       2017-09-25   \n",
       "4  4d5c57ea9a6940dd891ad53e9dbe8da0     NaN   None  118       2017-10-02   \n",
       "\n",
       "     income  reward  difficulty  duration offer_type  email  mobile  social  \\\n",
       "0  100000.0     5.0         5.0       7.0       bogo    1.0     1.0     0.0   \n",
       "1       NaN     5.0        20.0      10.0   discount    1.0     0.0     0.0   \n",
       "2   70000.0     2.0        10.0       7.0   discount    1.0     1.0     0.0   \n",
       "3       NaN     2.0        10.0      10.0   discount    1.0     1.0     1.0   \n",
       "4       NaN    10.0        10.0       5.0       bogo    1.0     1.0     1.0   \n",
       "\n",
       "   web              name  \n",
       "0  1.0        bogo_5_5_7  \n",
       "1  1.0  discount_20_5_10  \n",
       "2  1.0   discount_10_2_7  \n",
       "3  1.0  discount_10_2_10  \n",
       "4  1.0      bogo_10_10_5  "
      ]
     },
     "execution_count": 79,
     "metadata": {},
     "output_type": "execute_result"
    }
   ],
   "source": [
    "def merge_transcript_profile(transcript_df, profile_df):\n",
    "    profile_df = profile_parse_dates(profile_df)\n",
    "    transcript_encoded_df = transcript_encode(transcript_df)\n",
    "    transcript_profile_df = pd.merge(transcript_encoded_df,profile_df,  left_on = ['person'], right_on = ['id'], how = 'left')\n",
    "    transcript_profile_df = transcript_profile_df.drop(['id'], axis = 1)\n",
    "\n",
    "    \n",
    "    return transcript_profile_df\n",
    "\n",
    "def merge_transcript_profile_portfolio(transcript_df, profile_df, portfolio_df):\n",
    "    portfolio_df = preprocessing_portfolio(portfolio_df)\n",
    "    transcript_profile_df = merge_transcript_profile(transcript_df, profile_df)\n",
    "    \n",
    "    transcript_profile_porto = pd.merge(transcript_profile_df, portfolio_df, left_on = 'offer_id', right_on = 'id', how = \"left\" ).drop('id', axis = 1)\n",
    "    \n",
    "    return transcript_profile_porto\n",
    "\n",
    "transcript_merge = merge_transcript_profile_portfolio(transcript, profile, portfolio)\n",
    "transcript_merge.head()\n",
    "\n"
   ]
  },
  {
   "cell_type": "markdown",
   "metadata": {},
   "source": [
    "## Event & Offer Dis"
   ]
  },
  {
   "cell_type": "code",
   "execution_count": 80,
   "metadata": {},
   "outputs": [
    {
     "data": {
      "text/plain": [
       "<matplotlib.axes._subplots.AxesSubplot at 0x1d31e178c48>"
      ]
     },
     "execution_count": 80,
     "metadata": {},
     "output_type": "execute_result"
    },
    {
     "data": {
      "image/png": "[encoded data removed]",
      "text/plain": [
       "<Figure size 432x288 with 1 Axes>"
      ]
     },
     "metadata": {},
     "output_type": "display_data"
    }
   ],
   "source": [
    "'''Distribution of transcript type'''\n",
    "sns.countplot( x = 'event', data = transcript_merge)\n"
   ]
  },
  {
   "cell_type": "code",
   "execution_count": 81,
   "metadata": {},
   "outputs": [
    {
     "data": {
      "text/plain": [
       "<matplotlib.axes._subplots.AxesSubplot at 0x1d31b92d308>"
      ]
     },
     "execution_count": 81,
     "metadata": {},
     "output_type": "execute_result"
    },
    {
     "data": {
      "image/png": "[encoded data removed]",
      "text/plain": [
       "<Figure size 432x288 with 1 Axes>"
      ]
     },
     "metadata": {},
     "output_type": "display_data"
    }
   ],
   "source": [
    "\"\"\"Distribution of offer type\"\"\"\n",
    "\n",
    "sns.countplot(x = \"offer_type\", data= transcript_merge)"
   ]
  },
  {
   "cell_type": "code",
   "execution_count": 82,
   "metadata": {},
   "outputs": [
    {
     "data": {
      "text/plain": [
       "Text(0.5, 0, 'offer name')"
      ]
     },
     "execution_count": 82,
     "metadata": {},
     "output_type": "execute_result"
    },
    {
     "data": {
      "image/png": "[encoded data removed]",
      "text/plain": [
       "<Figure size 432x288 with 1 Axes>"
      ]
     },
     "metadata": {},
     "output_type": "display_data"
    }
   ],
   "source": [
    "\"\"\"Distribution of recevived offer\"\"\"\n",
    "\n",
    "received = transcript_merge[transcript_merge['event'] == 'offer received']\n",
    "\n",
    "sns.countplot(received['name'])\n",
    "plt.xticks(rotation = 90)\n",
    "plt.title(\"The distribution of offer name sent to customer\")\n",
    "plt.xlabel(\"offer name\")"
   ]
  },
  {
   "cell_type": "code",
   "execution_count": 83,
   "metadata": {},
   "outputs": [
    {
     "data": {
      "image/png": "[encoded data removed]",
      "text/plain": [
       "<Figure size 432x288 with 1 Axes>"
      ]
     },
     "metadata": {},
     "output_type": "display_data"
    },
    {
     "data": {
      "image/png": "[encoded data removed]",
      "text/plain": [
       "<Figure size 432x288 with 1 Axes>"
      ]
     },
     "metadata": {},
     "output_type": "display_data"
    },
    {
     "data": {
      "image/png": "[encoded data removed]",
      "text/plain": [
       "<Figure size 432x288 with 1 Axes>"
      ]
     },
     "metadata": {},
     "output_type": "display_data"
    },
    {
     "data": {
      "image/png": "[encoded data removed]",
      "text/plain": [
       "<Figure size 432x288 with 1 Axes>"
      ]
     },
     "metadata": {},
     "output_type": "display_data"
    },
    {
     "data": {
      "image/png": "[encoded data removed]",
      "text/plain": [
       "<Figure size 432x288 with 1 Axes>"
      ]
     },
     "metadata": {},
     "output_type": "display_data"
    },
    {
     "data": {
      "image/png": "[encoded data removed]",
      "text/plain": [
       "<Figure size 432x288 with 1 Axes>"
      ]
     },
     "metadata": {},
     "output_type": "display_data"
    },
    {
     "data": {
      "image/png": "[encoded data removed]",
      "text/plain": [
       "<Figure size 432x288 with 1 Axes>"
      ]
     },
     "metadata": {},
     "output_type": "display_data"
    },
    {
     "data": {
      "image/png": "[encoded data removed]",
      "text/plain": [
       "<Figure size 432x288 with 1 Axes>"
      ]
     },
     "metadata": {},
     "output_type": "display_data"
    },
    {
     "data": {
      "image/png": "[encoded data removed]",
      "text/plain": [
       "<Figure size 432x288 with 1 Axes>"
      ]
     },
     "metadata": {},
     "output_type": "display_data"
    },
    {
     "data": {
      "image/png": "[encoded data removed]",
      "text/plain": [
       "<Figure size 432x288 with 1 Axes>"
      ]
     },
     "metadata": {},
     "output_type": "display_data"
    }
   ],
   "source": [
    "for offer_name in received.name.unique():\n",
    "    received[received.name == offer_name]['person'].value_counts().hist()\n",
    "    plt.title(\"Distribution of \" + offer_name)\n",
    "    plt.xlabel(\"Number of offer received by each customer\")\n",
    "    plt.ylabel(\"Count\")\n",
    "    plt.tight_layout()\n",
    "    plt.show()\n",
    "    "
   ]
  },
  {
   "cell_type": "markdown",
   "metadata": {},
   "source": [
    "From the above plots we can see that their dis are quite same, meaning that each customer will received the same offer "
   ]
  },
  {
   "cell_type": "markdown",
   "metadata": {},
   "source": [
    "### Spending and Transcript Count"
   ]
  },
  {
   "cell_type": "code",
   "execution_count": 84,
   "metadata": {},
   "outputs": [
    {
     "data": {
      "text/plain": [
       "count    16578.000000\n",
       "mean        13.680266\n",
       "std         16.056763\n",
       "min          0.050000\n",
       "25%          3.181392\n",
       "50%         11.996607\n",
       "75%         20.469643\n",
       "max        451.470000\n",
       "Name: amount, dtype: float64"
      ]
     },
     "execution_count": 84,
     "metadata": {},
     "output_type": "execute_result"
    },
    {
     "data": {
      "image/png": "[encoded data removed]",
      "text/plain": [
       "<Figure size 432x288 with 1 Axes>"
      ]
     },
     "metadata": {},
     "output_type": "display_data"
    }
   ],
   "source": [
    "\"\"\"average spending distribution for each customer\"\"\"\n",
    "transcript_merge.groupby('person')['amount'].mean().hist(bins = 60)\n",
    "plt.xlabel(\"$ Spending\")\n",
    "plt.title(\"Average spending for each customer\")\n",
    "transcript_merge.groupby('person')['amount'].mean().describe()"
   ]
  },
  {
   "cell_type": "code",
   "execution_count": 85,
   "metadata": {},
   "outputs": [
    {
     "data": {
      "text/plain": [
       "count    17000.000000\n",
       "mean       104.438351\n",
       "std        125.922619\n",
       "min          0.000000\n",
       "25%         21.820000\n",
       "50%         69.405000\n",
       "75%        148.782500\n",
       "max       1608.690000\n",
       "Name: amount, dtype: float64"
      ]
     },
     "execution_count": 85,
     "metadata": {},
     "output_type": "execute_result"
    },
    {
     "data": {
      "image/png": "[encoded data removed]",
      "text/plain": [
       "<Figure size 432x288 with 1 Axes>"
      ]
     },
     "metadata": {},
     "output_type": "display_data"
    }
   ],
   "source": [
    "\"\"\"total spending distribution for each customer\"\"\"\n",
    "transcript_merge.groupby('person')['amount'].sum().hist(bins = 50)\n",
    "plt.xlabel(\"$ Spending\")\n",
    "plt.title(\"Total spending for each customer\")\n",
    "transcript_merge.groupby('person')['amount'].sum().describe()"
   ]
  },
  {
   "cell_type": "code",
   "execution_count": 86,
   "metadata": {},
   "outputs": [
    {
     "data": {
      "text/plain": [
       "count    17000.000000\n",
       "mean         8.173706\n",
       "std          5.116250\n",
       "min          0.000000\n",
       "25%          4.000000\n",
       "50%          7.000000\n",
       "75%         11.000000\n",
       "max         36.000000\n",
       "Name: amount, dtype: float64"
      ]
     },
     "execution_count": 86,
     "metadata": {},
     "output_type": "execute_result"
    },
    {
     "data": {
      "image/png": "[encoded data removed]",
      "text/plain": [
       "<Figure size 432x288 with 1 Axes>"
      ]
     },
     "metadata": {},
     "output_type": "display_data"
    }
   ],
   "source": [
    "transcript_merge.groupby('person')['amount'].count().hist(bins = 30)\n",
    "plt.xlabel(\"$ Spending\")\n",
    "plt.title(\"Frequency of transaction for each customer\")\n",
    "transcript_merge.groupby('person')['amount'].count().describe()"
   ]
  },
  {
   "cell_type": "code",
   "execution_count": null,
   "metadata": {},
   "outputs": [],
   "source": []
  },
  {
   "cell_type": "code",
   "execution_count": 87,
   "metadata": {},
   "outputs": [
    {
     "data": {
      "image/png": "[encoded data removed]",
      "text/plain": [
       "<Figure size 720x360 with 2 Axes>"
      ]
     },
     "metadata": {},
     "output_type": "display_data"
    }
   ],
   "source": [
    "\"\"\"Average spending by Gender\"\"\"\n",
    "\n",
    "transcript_merge_ = transcript_merge.copy()\n",
    "transcript_merge_.loc[transcript_merge.gender.isnull(), \"gender\"] = \"U\"\n",
    "## assign missing value in gender with 'U' value\n",
    "\n",
    "\n",
    "f, (ax1, ax2) = plt.subplots(1,2, figsize = (10,5))\n",
    "\n",
    "transcript_merge_.groupby(\"gender\")['amount'].mean()[['M','F','O','U']].plot(kind = 'bar', ax =ax1)\n",
    "ax1.set_xticklabels(ax1.get_xticklabels(), rotation=0)\n",
    "ax1.set_ylabel(\"$ spending\")\n",
    "ax1.set_title(\"Average $ Spending\")\n",
    "\n",
    "\n",
    "\n",
    "profile.fillna(\"U\").gender.value_counts()[['M','F','O','U']].plot(kind = 'bar', ax =ax2)\n",
    "ax2.set_xticklabels(ax1.get_xticklabels(), rotation=0)\n",
    "ax2.set_title(\"Gender Distribution\")\n",
    "ax1.set_label(\"Gender\")"
   ]
  },
  {
   "cell_type": "code",
   "execution_count": 88,
   "metadata": {},
   "outputs": [
    {
     "data": {
      "image/png": "[encoded data removed]",
      "text/plain": [
       "<Figure size 1080x360 with 3 Axes>"
      ]
     },
     "metadata": {},
     "output_type": "display_data"
    }
   ],
   "source": [
    "\"\"\" The number of transaction by GENDER \"\"\"\n",
    "sns.set()\n",
    "#plot avg spending\n",
    "f, (ax1, ax2, ax3) = plt.subplots(1,3, figsize=(15,5))\n",
    "transcript_merge_.groupby('gender')['amount'].mean()[['M', 'F', 'O', 'U']].plot(kind='bar', ax=ax1);\n",
    "ax1.set_xticklabels(ax1.get_xticklabels(), rotation=0)\n",
    "ax1.set_ylabel(\"$ spending\")\n",
    "ax1.set_title('The average spending')\n",
    "\n",
    "# plot avg number of transaction\n",
    "\n",
    "transcript_merge_.groupby(['gender', 'amount'])['amount'].count().mean(level=0)[['M', 'F', 'O', 'U']].plot(kind='bar', ax=ax2);\n",
    "ax2.set_xticklabels(ax1.get_xticklabels(), rotation=0);\n",
    "ax2.set_ylabel(\"The average number of transaction\");\n",
    "ax2.set_title(\"The avg number of transaction\");\n",
    "\n",
    "# boxplot income distribution\n",
    "sns.boxplot('gender', 'income', data=profile, ax=ax3, order=['M', 'F', 'O'])\n",
    "ax3.set_title('Income Boxplot')\n",
    "\n",
    "plt.tight_layout()"
   ]
  },
  {
   "cell_type": "markdown",
   "metadata": {},
   "source": [
    "    1. The highest average spending is made by female while the second is made by \"O\", even through they just made few number of transaction\n",
    "    2. The average spending is correlated with the income\n",
    "    3. The unknown \"U\" has the lowest average spending, yet it has the pretty high number of transaction"
   ]
  },
  {
   "cell_type": "markdown",
   "metadata": {},
   "source": [
    "### Office received, viewed and completed\n"
   ]
  },
  {
   "cell_type": "code",
   "execution_count": 89,
   "metadata": {},
   "outputs": [
    {
     "data": {
      "text/plain": [
       "Text(0.5, 1.0, 'Portfolio Distribution by Event')"
      ]
     },
     "execution_count": 89,
     "metadata": {},
     "output_type": "execute_result"
    },
    {
     "data": {
      "image/png": "[encoded data removed]",
      "text/plain": [
       "<Figure size 432x432 with 1 Axes>"
      ]
     },
     "metadata": {},
     "output_type": "display_data"
    }
   ],
   "source": [
    "\"\"\"Portfolio distribution by event\"\"\"\n",
    "plt.figure(figsize=( 6,6))\n",
    "\n",
    "sns.countplot(y = 'name', hue = 'event', data = transcript_merge[~transcript_merge.event.isin(['transaction'])])\n",
    "plt.legend(loc = 'center left',bbox_to_anchor = (1,0.5) )\n",
    "plt.xticks(rotation =90)\n",
    "plt.ylabel(\"Portfolio Name\")\n",
    "plt.title(\"Portfolio Distribution by Event\")"
   ]
  },
  {
   "cell_type": "code",
   "execution_count": 90,
   "metadata": {},
   "outputs": [
    {
     "data": {
      "image/png": "[encoded data removed]",
      "text/plain": [
       "<Figure size 720x360 with 1 Axes>"
      ]
     },
     "metadata": {},
     "output_type": "display_data"
    }
   ],
   "source": [
    "\"\"\"Portfolio distribution in percentage%\"\"\"\n",
    "\n",
    "event_count = transcript_merge[~transcript_merge.event.isin(['transaction'])].groupby(['name','event']).size().unstack()\n",
    "\n",
    "\n",
    "event_count['offer_complete_percentage'] = event_count['offer completed'] / event_count['offer received']\n",
    "event_count['offer_received_percentage'] = event_count['offer received'] / event_count['offer received']\n",
    "event_count['offer_view_percentage'] = event_count['offer viewed'] / event_count['offer received']\n",
    "\n",
    "event_count_percent = event_count[['offer_received_percentage','offer_view_percentage','offer_complete_percentage']]\n",
    "event_count_percent = event_count_percent.stack().reset_index()\n",
    "\n",
    "\n",
    "plt.figure(figsize = (10,5))\n",
    "sns.barplot( x = 0,y = 'name', hue = 'event', data = event_count_percent)\n",
    "plt.legend(loc = 'center left',bbox_to_anchor = (1,0.5) )\n",
    "plt.xlabel(\"Percentage\")\n",
    "plt.title(\"Before cleaning: Offer received, viewed and completed\")\n",
    "plt.tight_layout()"
   ]
  },
  {
   "cell_type": "code",
   "execution_count": 91,
   "metadata": {},
   "outputs": [
    {
     "data": {
      "text/plain": [
       "94de646f7b6041228ca7dec82adb97d2    51\n",
       "8dbfa485249f409aa223a2130f40634a    49\n",
       "d0a80415b84c4df4908b8403b19765e3    48\n",
       "5e60c6aa3b834e44b822ea43a3efea26    48\n",
       "79d9d4f86aca4bed9290350fb43817c2    48\n",
       "Name: person, dtype: int64"
      ]
     },
     "execution_count": 91,
     "metadata": {},
     "output_type": "execute_result"
    }
   ],
   "source": [
    "transcript_merge['person'].value_counts().head()\n",
    "\n"
   ]
  },
  {
   "cell_type": "code",
   "execution_count": 92,
   "metadata": {},
   "outputs": [
    {
     "data": {
      "text/html": [
       "<div>\n",
       "<style scoped>\n",
       "    .dataframe tbody tr th:only-of-type {\n",
       "        vertical-align: middle;\n",
       "    }\n",
       "\n",
       "    .dataframe tbody tr th {\n",
       "        vertical-align: top;\n",
       "    }\n",
       "\n",
       "    .dataframe thead th {\n",
       "        text-align: right;\n",
       "    }\n",
       "</style>\n",
       "<table border=\"1\" class=\"dataframe\">\n",
       "  <thead>\n",
       "    <tr style=\"text-align: right;\">\n",
       "      <th></th>\n",
       "      <th>person</th>\n",
       "      <th>event</th>\n",
       "      <th>value</th>\n",
       "      <th>time</th>\n",
       "      <th>offer_id</th>\n",
       "      <th>amount</th>\n",
       "      <th>gender</th>\n",
       "      <th>age</th>\n",
       "      <th>became_member_on</th>\n",
       "      <th>income</th>\n",
       "      <th>reward</th>\n",
       "      <th>difficulty</th>\n",
       "      <th>duration</th>\n",
       "      <th>offer_type</th>\n",
       "      <th>email</th>\n",
       "      <th>mobile</th>\n",
       "      <th>social</th>\n",
       "      <th>web</th>\n",
       "      <th>name</th>\n",
       "    </tr>\n",
       "  </thead>\n",
       "  <tbody>\n",
       "    <tr>\n",
       "      <th>2276</th>\n",
       "      <td>94de646f7b6041228ca7dec82adb97d2</td>\n",
       "      <td>offer received</td>\n",
       "      <td>{'offer id': 'f19421c1d4aa40978ebb69ca19b0e20d'}</td>\n",
       "      <td>0</td>\n",
       "      <td>f19421c1d4aa40978ebb69ca19b0e20d</td>\n",
       "      <td>NaN</td>\n",
       "      <td>M</td>\n",
       "      <td>27</td>\n",
       "      <td>2014-01-26</td>\n",
       "      <td>33000.0</td>\n",
       "      <td>5.0</td>\n",
       "      <td>5.0</td>\n",
       "      <td>5.0</td>\n",
       "      <td>bogo</td>\n",
       "      <td>1.0</td>\n",
       "      <td>1.0</td>\n",
       "      <td>1.0</td>\n",
       "      <td>1.0</td>\n",
       "      <td>bogo_5_5_5</td>\n",
       "    </tr>\n",
       "    <tr>\n",
       "      <th>16010</th>\n",
       "      <td>94de646f7b6041228ca7dec82adb97d2</td>\n",
       "      <td>offer viewed</td>\n",
       "      <td>{'offer id': 'f19421c1d4aa40978ebb69ca19b0e20d'}</td>\n",
       "      <td>6</td>\n",
       "      <td>f19421c1d4aa40978ebb69ca19b0e20d</td>\n",
       "      <td>NaN</td>\n",
       "      <td>M</td>\n",
       "      <td>27</td>\n",
       "      <td>2014-01-26</td>\n",
       "      <td>33000.0</td>\n",
       "      <td>5.0</td>\n",
       "      <td>5.0</td>\n",
       "      <td>5.0</td>\n",
       "      <td>bogo</td>\n",
       "      <td>1.0</td>\n",
       "      <td>1.0</td>\n",
       "      <td>1.0</td>\n",
       "      <td>1.0</td>\n",
       "      <td>bogo_5_5_5</td>\n",
       "    </tr>\n",
       "    <tr>\n",
       "      <th>24531</th>\n",
       "      <td>94de646f7b6041228ca7dec82adb97d2</td>\n",
       "      <td>transaction</td>\n",
       "      <td>{'amount': 7.41}</td>\n",
       "      <td>30</td>\n",
       "      <td>NaN</td>\n",
       "      <td>7.41</td>\n",
       "      <td>M</td>\n",
       "      <td>27</td>\n",
       "      <td>2014-01-26</td>\n",
       "      <td>33000.0</td>\n",
       "      <td>NaN</td>\n",
       "      <td>NaN</td>\n",
       "      <td>NaN</td>\n",
       "      <td>NaN</td>\n",
       "      <td>NaN</td>\n",
       "      <td>NaN</td>\n",
       "      <td>NaN</td>\n",
       "      <td>NaN</td>\n",
       "      <td>NaN</td>\n",
       "    </tr>\n",
       "    <tr>\n",
       "      <th>24532</th>\n",
       "      <td>94de646f7b6041228ca7dec82adb97d2</td>\n",
       "      <td>offer completed</td>\n",
       "      <td>{'offer_id': 'f19421c1d4aa40978ebb69ca19b0e20d...</td>\n",
       "      <td>30</td>\n",
       "      <td>f19421c1d4aa40978ebb69ca19b0e20d</td>\n",
       "      <td>NaN</td>\n",
       "      <td>M</td>\n",
       "      <td>27</td>\n",
       "      <td>2014-01-26</td>\n",
       "      <td>33000.0</td>\n",
       "      <td>5.0</td>\n",
       "      <td>5.0</td>\n",
       "      <td>5.0</td>\n",
       "      <td>bogo</td>\n",
       "      <td>1.0</td>\n",
       "      <td>1.0</td>\n",
       "      <td>1.0</td>\n",
       "      <td>1.0</td>\n",
       "      <td>bogo_5_5_5</td>\n",
       "    </tr>\n",
       "    <tr>\n",
       "      <th>42252</th>\n",
       "      <td>94de646f7b6041228ca7dec82adb97d2</td>\n",
       "      <td>transaction</td>\n",
       "      <td>{'amount': 1.47}</td>\n",
       "      <td>102</td>\n",
       "      <td>NaN</td>\n",
       "      <td>1.47</td>\n",
       "      <td>M</td>\n",
       "      <td>27</td>\n",
       "      <td>2014-01-26</td>\n",
       "      <td>33000.0</td>\n",
       "      <td>NaN</td>\n",
       "      <td>NaN</td>\n",
       "      <td>NaN</td>\n",
       "      <td>NaN</td>\n",
       "      <td>NaN</td>\n",
       "      <td>NaN</td>\n",
       "      <td>NaN</td>\n",
       "      <td>NaN</td>\n",
       "      <td>NaN</td>\n",
       "    </tr>\n",
       "    <tr>\n",
       "      <th>55475</th>\n",
       "      <td>94de646f7b6041228ca7dec82adb97d2</td>\n",
       "      <td>offer received</td>\n",
       "      <td>{'offer id': '9b98b8c7a33c4b65b9aebfe6a799e6d9'}</td>\n",
       "      <td>168</td>\n",
       "      <td>9b98b8c7a33c4b65b9aebfe6a799e6d9</td>\n",
       "      <td>NaN</td>\n",
       "      <td>M</td>\n",
       "      <td>27</td>\n",
       "      <td>2014-01-26</td>\n",
       "      <td>33000.0</td>\n",
       "      <td>5.0</td>\n",
       "      <td>5.0</td>\n",
       "      <td>7.0</td>\n",
       "      <td>bogo</td>\n",
       "      <td>1.0</td>\n",
       "      <td>1.0</td>\n",
       "      <td>0.0</td>\n",
       "      <td>1.0</td>\n",
       "      <td>bogo_5_5_7</td>\n",
       "    </tr>\n",
       "    <tr>\n",
       "      <th>75256</th>\n",
       "      <td>94de646f7b6041228ca7dec82adb97d2</td>\n",
       "      <td>offer viewed</td>\n",
       "      <td>{'offer id': '9b98b8c7a33c4b65b9aebfe6a799e6d9'}</td>\n",
       "      <td>186</td>\n",
       "      <td>9b98b8c7a33c4b65b9aebfe6a799e6d9</td>\n",
       "      <td>NaN</td>\n",
       "      <td>M</td>\n",
       "      <td>27</td>\n",
       "      <td>2014-01-26</td>\n",
       "      <td>33000.0</td>\n",
       "      <td>5.0</td>\n",
       "      <td>5.0</td>\n",
       "      <td>7.0</td>\n",
       "      <td>bogo</td>\n",
       "      <td>1.0</td>\n",
       "      <td>1.0</td>\n",
       "      <td>0.0</td>\n",
       "      <td>1.0</td>\n",
       "      <td>bogo_5_5_7</td>\n",
       "    </tr>\n",
       "    <tr>\n",
       "      <th>77624</th>\n",
       "      <td>94de646f7b6041228ca7dec82adb97d2</td>\n",
       "      <td>transaction</td>\n",
       "      <td>{'amount': 2.62}</td>\n",
       "      <td>192</td>\n",
       "      <td>NaN</td>\n",
       "      <td>2.62</td>\n",
       "      <td>M</td>\n",
       "      <td>27</td>\n",
       "      <td>2014-01-26</td>\n",
       "      <td>33000.0</td>\n",
       "      <td>NaN</td>\n",
       "      <td>NaN</td>\n",
       "      <td>NaN</td>\n",
       "      <td>NaN</td>\n",
       "      <td>NaN</td>\n",
       "      <td>NaN</td>\n",
       "      <td>NaN</td>\n",
       "      <td>NaN</td>\n",
       "      <td>NaN</td>\n",
       "    </tr>\n",
       "    <tr>\n",
       "      <th>81725</th>\n",
       "      <td>94de646f7b6041228ca7dec82adb97d2</td>\n",
       "      <td>transaction</td>\n",
       "      <td>{'amount': 0.59}</td>\n",
       "      <td>204</td>\n",
       "      <td>NaN</td>\n",
       "      <td>0.59</td>\n",
       "      <td>M</td>\n",
       "      <td>27</td>\n",
       "      <td>2014-01-26</td>\n",
       "      <td>33000.0</td>\n",
       "      <td>NaN</td>\n",
       "      <td>NaN</td>\n",
       "      <td>NaN</td>\n",
       "      <td>NaN</td>\n",
       "      <td>NaN</td>\n",
       "      <td>NaN</td>\n",
       "      <td>NaN</td>\n",
       "      <td>NaN</td>\n",
       "      <td>NaN</td>\n",
       "    </tr>\n",
       "    <tr>\n",
       "      <th>93913</th>\n",
       "      <td>94de646f7b6041228ca7dec82adb97d2</td>\n",
       "      <td>transaction</td>\n",
       "      <td>{'amount': 2.2800000000000002}</td>\n",
       "      <td>246</td>\n",
       "      <td>NaN</td>\n",
       "      <td>2.28</td>\n",
       "      <td>M</td>\n",
       "      <td>27</td>\n",
       "      <td>2014-01-26</td>\n",
       "      <td>33000.0</td>\n",
       "      <td>NaN</td>\n",
       "      <td>NaN</td>\n",
       "      <td>NaN</td>\n",
       "      <td>NaN</td>\n",
       "      <td>NaN</td>\n",
       "      <td>NaN</td>\n",
       "      <td>NaN</td>\n",
       "      <td>NaN</td>\n",
       "      <td>NaN</td>\n",
       "    </tr>\n",
       "  </tbody>\n",
       "</table>\n",
       "</div>"
      ],
      "text/plain": [
       "                                 person            event  \\\n",
       "2276   94de646f7b6041228ca7dec82adb97d2   offer received   \n",
       "16010  94de646f7b6041228ca7dec82adb97d2     offer viewed   \n",
       "24531  94de646f7b6041228ca7dec82adb97d2      transaction   \n",
       "24532  94de646f7b6041228ca7dec82adb97d2  offer completed   \n",
       "42252  94de646f7b6041228ca7dec82adb97d2      transaction   \n",
       "55475  94de646f7b6041228ca7dec82adb97d2   offer received   \n",
       "75256  94de646f7b6041228ca7dec82adb97d2     offer viewed   \n",
       "77624  94de646f7b6041228ca7dec82adb97d2      transaction   \n",
       "81725  94de646f7b6041228ca7dec82adb97d2      transaction   \n",
       "93913  94de646f7b6041228ca7dec82adb97d2      transaction   \n",
       "\n",
       "                                                   value  time  \\\n",
       "2276    {'offer id': 'f19421c1d4aa40978ebb69ca19b0e20d'}     0   \n",
       "16010   {'offer id': 'f19421c1d4aa40978ebb69ca19b0e20d'}     6   \n",
       "24531                                   {'amount': 7.41}    30   \n",
       "24532  {'offer_id': 'f19421c1d4aa40978ebb69ca19b0e20d...    30   \n",
       "42252                                   {'amount': 1.47}   102   \n",
       "55475   {'offer id': '9b98b8c7a33c4b65b9aebfe6a799e6d9'}   168   \n",
       "75256   {'offer id': '9b98b8c7a33c4b65b9aebfe6a799e6d9'}   186   \n",
       "77624                                   {'amount': 2.62}   192   \n",
       "81725                                   {'amount': 0.59}   204   \n",
       "93913                     {'amount': 2.2800000000000002}   246   \n",
       "\n",
       "                               offer_id  amount gender  age became_member_on  \\\n",
       "2276   f19421c1d4aa40978ebb69ca19b0e20d     NaN      M   27       2014-01-26   \n",
       "16010  f19421c1d4aa40978ebb69ca19b0e20d     NaN      M   27       2014-01-26   \n",
       "24531                               NaN    7.41      M   27       2014-01-26   \n",
       "24532  f19421c1d4aa40978ebb69ca19b0e20d     NaN      M   27       2014-01-26   \n",
       "42252                               NaN    1.47      M   27       2014-01-26   \n",
       "55475  9b98b8c7a33c4b65b9aebfe6a799e6d9     NaN      M   27       2014-01-26   \n",
       "75256  9b98b8c7a33c4b65b9aebfe6a799e6d9     NaN      M   27       2014-01-26   \n",
       "77624                               NaN    2.62      M   27       2014-01-26   \n",
       "81725                               NaN    0.59      M   27       2014-01-26   \n",
       "93913                               NaN    2.28      M   27       2014-01-26   \n",
       "\n",
       "        income  reward  difficulty  duration offer_type  email  mobile  \\\n",
       "2276   33000.0     5.0         5.0       5.0       bogo    1.0     1.0   \n",
       "16010  33000.0     5.0         5.0       5.0       bogo    1.0     1.0   \n",
       "24531  33000.0     NaN         NaN       NaN        NaN    NaN     NaN   \n",
       "24532  33000.0     5.0         5.0       5.0       bogo    1.0     1.0   \n",
       "42252  33000.0     NaN         NaN       NaN        NaN    NaN     NaN   \n",
       "55475  33000.0     5.0         5.0       7.0       bogo    1.0     1.0   \n",
       "75256  33000.0     5.0         5.0       7.0       bogo    1.0     1.0   \n",
       "77624  33000.0     NaN         NaN       NaN        NaN    NaN     NaN   \n",
       "81725  33000.0     NaN         NaN       NaN        NaN    NaN     NaN   \n",
       "93913  33000.0     NaN         NaN       NaN        NaN    NaN     NaN   \n",
       "\n",
       "       social  web        name  \n",
       "2276      1.0  1.0  bogo_5_5_5  \n",
       "16010     1.0  1.0  bogo_5_5_5  \n",
       "24531     NaN  NaN         NaN  \n",
       "24532     1.0  1.0  bogo_5_5_5  \n",
       "42252     NaN  NaN         NaN  \n",
       "55475     0.0  1.0  bogo_5_5_7  \n",
       "75256     0.0  1.0  bogo_5_5_7  \n",
       "77624     NaN  NaN         NaN  \n",
       "81725     NaN  NaN         NaN  \n",
       "93913     NaN  NaN         NaN  "
      ]
     },
     "execution_count": 92,
     "metadata": {},
     "output_type": "execute_result"
    }
   ],
   "source": [
    "transcript_merge[transcript_merge['person'] =='94de646f7b6041228ca7dec82adb97d2'].head(10)"
   ]
  },
  {
   "cell_type": "code",
   "execution_count": 93,
   "metadata": {
    "scrolled": true
   },
   "outputs": [
    {
     "name": "stdout",
     "output_type": "stream",
     "text": [
      "The autoreload extension is already loaded. To reload it, use:\n",
      "  %reload_ext autoreload\n"
     ]
    }
   ],
   "source": [
    "%load_ext autoreload\n",
    "%autoreload 2\n",
    "import helper as h\n",
    "\n",
    "# re-read read in the json files\n",
    "portfolio = pd.read_json(\"data/portfolio.json\", orient='records', lines=True)\n",
    "profile = pd.read_json('data/profile.json', orient='records', lines=True)\n",
    "transcript = pd.read_json('data/transcript.json', orient='records', lines=True)"
   ]
  },
  {
   "cell_type": "code",
   "execution_count": 94,
   "metadata": {},
   "outputs": [],
   "source": [
    "# def find_invalid_index(transcript_df, profile_df, portfolio_df):\n",
    "    \n",
    "#     transcript_merge_df = merge_transcript_profile_portfolio(transcript_df, profile_df, portfolio_df)\n",
    "#     invalid_index = []\n",
    "    \n",
    "#     for profile_id in tqdm(transcript_merge_df.person.unique()):\n",
    "#         subset_df = transcript_merge_df[transcript_merge_df.person == profile_id]\n",
    "        \n",
    "#         complete_df = subset_df[subset_df.event == 'offer completed']\n",
    "        \n",
    "#         for offer in complete_df.offer_id.unique():\n",
    "#             comp = complete_df[complete_df.offer_id == offer]\n",
    "            \n",
    "#             start_time = comp.time.values - (comp.duration.values * 24)\n",
    "            \n",
    "#             comp_time = comp.time.values\n",
    "            \n",
    "#             subset = subset_df[(subset_df.time >= start_time[0]) & (subset_df.time <= comp.time.values[0])]\n",
    "            \n",
    "#             subset_viewed = subset[(subset.event == 'offer viewed') & ( subset.offer_id == offer)]\n",
    "#             if subset_viewed.shape[0] == 0 :\n",
    "#                 invalid_index.extend(comp.index)\n",
    "\n",
    "#     return invalid_index\n",
    "        "
   ]
  },
  {
   "cell_type": "code",
   "execution_count": 95,
   "metadata": {},
   "outputs": [],
   "source": [
    "# def transcript_cleaning(transcript_df, profile_df, portfolio_df):\n",
    "    \n",
    "    \n",
    "#     transcript_clean_df = merge_transcript_profile_portfolio(transcript_df, profile_df, portfolio_df)\n",
    "#     invalid_index = find_invalid_index(transcript_df, profile_df, portfolio_df) \n",
    "    \n",
    "#     transcript_clean_df.loc[transcript_clean_df.index.isin(invalid_index),\"invalid\"] = 1\n",
    "#     transcript_clean_df.loc[~transcript_clean_df.index.isin(invalid_index),\"invalid\"] = 0    \n",
    "    \n",
    "#     return transcript_clean_df"
   ]
  },
  {
   "cell_type": "code",
   "execution_count": 96,
   "metadata": {},
   "outputs": [],
   "source": [
    "# def transcript_preprocessing(transcript_df, profile_df, portfolio_df):\n",
    "#     transcript_all_df = transcript_cleaning(transcript_df, profile_df, portfolio_df)\n",
    "#     transcript_valid_df = transcript_all_df[transcript_all_df.invalid == 0]\n",
    "#     return transcript_valid_df, transcript_all_df"
   ]
  },
  {
   "cell_type": "code",
   "execution_count": 97,
   "metadata": {},
   "outputs": [
    {
     "name": "stderr",
     "output_type": "stream",
     "text": [
      "100%|██████████| 17000/17000 [07:41<00:00, 36.87it/s]\n"
     ]
    }
   ],
   "source": [
    "transcript_clean, transcript_all = h.transcript_preprocessing(transcript, profile, portfolio)\n"
   ]
  },
  {
   "cell_type": "markdown",
   "metadata": {},
   "source": [
    "### Visualize Offer Received, Viewed, Completed"
   ]
  },
  {
   "cell_type": "code",
   "execution_count": 98,
   "metadata": {},
   "outputs": [
    {
     "data": {
      "text/html": [
       "<div>\n",
       "<style scoped>\n",
       "    .dataframe tbody tr th:only-of-type {\n",
       "        vertical-align: middle;\n",
       "    }\n",
       "\n",
       "    .dataframe tbody tr th {\n",
       "        vertical-align: top;\n",
       "    }\n",
       "\n",
       "    .dataframe thead th {\n",
       "        text-align: right;\n",
       "    }\n",
       "</style>\n",
       "<table border=\"1\" class=\"dataframe\">\n",
       "  <thead>\n",
       "    <tr style=\"text-align: right;\">\n",
       "      <th>event</th>\n",
       "      <th>name</th>\n",
       "      <th>offer_type</th>\n",
       "      <th>offer_received_frac</th>\n",
       "      <th>offer_viewed_frac</th>\n",
       "      <th>offer_completed_frac</th>\n",
       "    </tr>\n",
       "  </thead>\n",
       "  <tbody>\n",
       "    <tr>\n",
       "      <th>0</th>\n",
       "      <td>bogo_10_10_5</td>\n",
       "      <td>bogo</td>\n",
       "      <td>1.0</td>\n",
       "      <td>0.961148</td>\n",
       "      <td>0.369946</td>\n",
       "    </tr>\n",
       "    <tr>\n",
       "      <th>1</th>\n",
       "      <td>bogo_10_10_7</td>\n",
       "      <td>bogo</td>\n",
       "      <td>1.0</td>\n",
       "      <td>0.876991</td>\n",
       "      <td>0.352964</td>\n",
       "    </tr>\n",
       "    <tr>\n",
       "      <th>2</th>\n",
       "      <td>bogo_5_5_5</td>\n",
       "      <td>bogo</td>\n",
       "      <td>1.0</td>\n",
       "      <td>0.959451</td>\n",
       "      <td>0.471536</td>\n",
       "    </tr>\n",
       "    <tr>\n",
       "      <th>3</th>\n",
       "      <td>bogo_5_5_7</td>\n",
       "      <td>bogo</td>\n",
       "      <td>1.0</td>\n",
       "      <td>0.543311</td>\n",
       "      <td>0.287091</td>\n",
       "    </tr>\n",
       "    <tr>\n",
       "      <th>4</th>\n",
       "      <td>discount_10_2_10</td>\n",
       "      <td>discount</td>\n",
       "      <td>1.0</td>\n",
       "      <td>0.964460</td>\n",
       "      <td>0.623404</td>\n",
       "    </tr>\n",
       "    <tr>\n",
       "      <th>5</th>\n",
       "      <td>discount_10_2_7</td>\n",
       "      <td>discount</td>\n",
       "      <td>1.0</td>\n",
       "      <td>0.539570</td>\n",
       "      <td>0.288391</td>\n",
       "    </tr>\n",
       "    <tr>\n",
       "      <th>6</th>\n",
       "      <td>discount_20_5_10</td>\n",
       "      <td>discount</td>\n",
       "      <td>1.0</td>\n",
       "      <td>0.347287</td>\n",
       "      <td>0.184924</td>\n",
       "    </tr>\n",
       "    <tr>\n",
       "      <th>7</th>\n",
       "      <td>discount_7_3_7</td>\n",
       "      <td>discount</td>\n",
       "      <td>1.0</td>\n",
       "      <td>0.959587</td>\n",
       "      <td>0.583442</td>\n",
       "    </tr>\n",
       "    <tr>\n",
       "      <th>8</th>\n",
       "      <td>informational_0_0_3</td>\n",
       "      <td>informational</td>\n",
       "      <td>1.0</td>\n",
       "      <td>0.877789</td>\n",
       "      <td>NaN</td>\n",
       "    </tr>\n",
       "    <tr>\n",
       "      <th>9</th>\n",
       "      <td>informational_0_0_4</td>\n",
       "      <td>informational</td>\n",
       "      <td>1.0</td>\n",
       "      <td>0.544046</td>\n",
       "      <td>NaN</td>\n",
       "    </tr>\n",
       "  </tbody>\n",
       "</table>\n",
       "</div>"
      ],
      "text/plain": [
       "event                 name     offer_type  offer_received_frac  \\\n",
       "0             bogo_10_10_5           bogo                  1.0   \n",
       "1             bogo_10_10_7           bogo                  1.0   \n",
       "2               bogo_5_5_5           bogo                  1.0   \n",
       "3               bogo_5_5_7           bogo                  1.0   \n",
       "4         discount_10_2_10       discount                  1.0   \n",
       "5          discount_10_2_7       discount                  1.0   \n",
       "6         discount_20_5_10       discount                  1.0   \n",
       "7           discount_7_3_7       discount                  1.0   \n",
       "8      informational_0_0_3  informational                  1.0   \n",
       "9      informational_0_0_4  informational                  1.0   \n",
       "\n",
       "event  offer_viewed_frac  offer_completed_frac  \n",
       "0               0.961148              0.369946  \n",
       "1               0.876991              0.352964  \n",
       "2               0.959451              0.471536  \n",
       "3               0.543311              0.287091  \n",
       "4               0.964460              0.623404  \n",
       "5               0.539570              0.288391  \n",
       "6               0.347287              0.184924  \n",
       "7               0.959587              0.583442  \n",
       "8               0.877789                   NaN  \n",
       "9               0.544046                   NaN  "
      ]
     },
     "execution_count": 98,
     "metadata": {},
     "output_type": "execute_result"
    }
   ],
   "source": [
    "event_count = transcript_clean.groupby(['name', 'offer_type', 'event']).size().unstack()\n",
    "\n",
    "event_count['offer_received_frac'] = event_count['offer received']/ event_count['offer received']\n",
    "event_count['offer_viewed_frac'] = event_count['offer viewed']/ event_count['offer received']\n",
    "event_count['offer_completed_frac'] =  event_count['offer completed']/ event_count['offer received']\n",
    "\n",
    "event_count_frac = event_count[['offer_received_frac','offer_viewed_frac', 'offer_completed_frac']]\n",
    "event_count_frac.reset_index()"
   ]
  },
  {
   "cell_type": "code",
   "execution_count": 105,
   "metadata": {},
   "outputs": [
    {
     "data": {
      "image/png": "[encoded data removed]",
      "text/plain": [
       "<Figure size 1080x576 with 2 Axes>"
      ]
     },
     "metadata": {},
     "output_type": "display_data"
    }
   ],
   "source": [
    "event_count_stack = event_count_frac.stack().reset_index()\n",
    "f, (ax1, ax2) = plt.subplots(1 ,2, figsize = (15,8))\n",
    "\n",
    "sns.barplot( x = 0, y = 'offer_type',hue = 'event' ,data = event_count_stack, ci = None, ax = ax1)\n",
    "ax1.legend().set_visible(False)\n",
    "ax1.set_title(\"Offer Type\")\n",
    "ax1.set_xlabel(\"Fraction\")\n",
    "\n",
    "sns.barplot( x = 0, y = 'name',hue = 'event' ,data = event_count_stack, ax = ax2)\n",
    "ax2.legend(loc = 'center left', bbox_to_anchor = (1, 0.5))\n",
    "ax2.set_title(\"Offer Name\")\n",
    "ax2.set_xlabel('Fraction')\n",
    "\n",
    "plt.tight_layout()"
   ]
  },
  {
   "cell_type": "markdown",
   "metadata": {},
   "source": [
    "- The highest offer viewed rate is discount-7-3-7, followed by discount-10-2-10\n",
    "- The highest completed offer rate is discount 10-2-10, followed by discount-7-3-7\n",
    "- The highest viewed rate is bogo while highest completed rate is discount\n"
   ]
  },
  {
   "cell_type": "code",
   "execution_count": 106,
   "metadata": {},
   "outputs": [
    {
     "name": "stderr",
     "output_type": "stream",
     "text": [
      "100%|██████████| 17000/17000 [07:46<00:00, 36.47it/s]\n"
     ]
    }
   ],
   "source": [
    "profile_updated = h.feature_extraction(transcript_clean,transcript_all,profile, portfolio)\n"
   ]
  },
  {
   "cell_type": "code",
   "execution_count": 108,
   "metadata": {},
   "outputs": [
    {
     "data": {
      "text/html": [
       "<div>\n",
       "<style scoped>\n",
       "    .dataframe tbody tr th:only-of-type {\n",
       "        vertical-align: middle;\n",
       "    }\n",
       "\n",
       "    .dataframe tbody tr th {\n",
       "        vertical-align: top;\n",
       "    }\n",
       "\n",
       "    .dataframe thead th {\n",
       "        text-align: right;\n",
       "    }\n",
       "</style>\n",
       "<table border=\"1\" class=\"dataframe\">\n",
       "  <thead>\n",
       "    <tr style=\"text-align: right;\">\n",
       "      <th></th>\n",
       "      <th>gender</th>\n",
       "      <th>age</th>\n",
       "      <th>became_member_on</th>\n",
       "      <th>income</th>\n",
       "      <th>offer received_bogo_10_10_7</th>\n",
       "      <th>offer received_bogo_10_10_5</th>\n",
       "      <th>offer received_informational_0_0_4</th>\n",
       "      <th>offer received_bogo_5_5_7</th>\n",
       "      <th>offer received_discount_20_5_10</th>\n",
       "      <th>offer received_discount_7_3_7</th>\n",
       "      <th>...</th>\n",
       "      <th>rate_offer_completed_viewed_discount_10_2_10</th>\n",
       "      <th>rate_offer_completed_received_discount_10_2_10</th>\n",
       "      <th>rate_offer_viewed_informational_0_0_3</th>\n",
       "      <th>rate_offer_viewed_bogo_5_5_5</th>\n",
       "      <th>rate_offer_completed_viewed_bogo_5_5_5</th>\n",
       "      <th>rate_offer_completed_received_bogo_5_5_5</th>\n",
       "      <th>rate_offer_viewed_discount_10_2_7</th>\n",
       "      <th>rate_offer_completed_viewed_discount_10_2_7</th>\n",
       "      <th>rate_offer_completed_received_discount_10_2_7</th>\n",
       "      <th>transaction_completed_ratio</th>\n",
       "    </tr>\n",
       "  </thead>\n",
       "  <tbody>\n",
       "    <tr>\n",
       "      <th>68be06ca386d4c31939f3a4f0e3dd783</th>\n",
       "      <td>None</td>\n",
       "      <td>118</td>\n",
       "      <td>2017-02-12</td>\n",
       "      <td>NaN</td>\n",
       "      <td>0.0</td>\n",
       "      <td>0.0</td>\n",
       "      <td>0.0</td>\n",
       "      <td>0.0</td>\n",
       "      <td>1.0</td>\n",
       "      <td>1.0</td>\n",
       "      <td>...</td>\n",
       "      <td>0.5</td>\n",
       "      <td>0.5</td>\n",
       "      <td>0.0</td>\n",
       "      <td>0.0</td>\n",
       "      <td>0.0</td>\n",
       "      <td>0.0</td>\n",
       "      <td>1.0</td>\n",
       "      <td>0.0</td>\n",
       "      <td>0.0</td>\n",
       "      <td>4.285714</td>\n",
       "    </tr>\n",
       "    <tr>\n",
       "      <th>0610b486422d4921ae7d2bf64640c50b</th>\n",
       "      <td>F</td>\n",
       "      <td>55</td>\n",
       "      <td>2017-07-15</td>\n",
       "      <td>112000.0</td>\n",
       "      <td>0.0</td>\n",
       "      <td>0.0</td>\n",
       "      <td>1.0</td>\n",
       "      <td>1.0</td>\n",
       "      <td>0.0</td>\n",
       "      <td>0.0</td>\n",
       "      <td>...</td>\n",
       "      <td>0.0</td>\n",
       "      <td>0.0</td>\n",
       "      <td>0.0</td>\n",
       "      <td>0.0</td>\n",
       "      <td>0.0</td>\n",
       "      <td>0.0</td>\n",
       "      <td>0.0</td>\n",
       "      <td>0.0</td>\n",
       "      <td>0.0</td>\n",
       "      <td>30.000000</td>\n",
       "    </tr>\n",
       "    <tr>\n",
       "      <th>38fe809add3b4fcf9315a9694bb96ff5</th>\n",
       "      <td>None</td>\n",
       "      <td>118</td>\n",
       "      <td>2018-07-12</td>\n",
       "      <td>NaN</td>\n",
       "      <td>0.0</td>\n",
       "      <td>0.0</td>\n",
       "      <td>0.0</td>\n",
       "      <td>1.0</td>\n",
       "      <td>0.0</td>\n",
       "      <td>0.0</td>\n",
       "      <td>...</td>\n",
       "      <td>0.0</td>\n",
       "      <td>0.0</td>\n",
       "      <td>1.0</td>\n",
       "      <td>0.0</td>\n",
       "      <td>0.0</td>\n",
       "      <td>0.0</td>\n",
       "      <td>0.0</td>\n",
       "      <td>0.0</td>\n",
       "      <td>0.0</td>\n",
       "      <td>60.000000</td>\n",
       "    </tr>\n",
       "    <tr>\n",
       "      <th>78afa995795e4d85b5d9ceeca43f5fef</th>\n",
       "      <td>F</td>\n",
       "      <td>75</td>\n",
       "      <td>2017-05-09</td>\n",
       "      <td>100000.0</td>\n",
       "      <td>1.0</td>\n",
       "      <td>0.0</td>\n",
       "      <td>0.0</td>\n",
       "      <td>1.0</td>\n",
       "      <td>0.0</td>\n",
       "      <td>0.0</td>\n",
       "      <td>...</td>\n",
       "      <td>0.0</td>\n",
       "      <td>0.0</td>\n",
       "      <td>1.0</td>\n",
       "      <td>1.0</td>\n",
       "      <td>0.0</td>\n",
       "      <td>0.0</td>\n",
       "      <td>0.0</td>\n",
       "      <td>0.0</td>\n",
       "      <td>0.0</td>\n",
       "      <td>3.333333</td>\n",
       "    </tr>\n",
       "    <tr>\n",
       "      <th>a03223e636434f42ac4c3df47e8bac43</th>\n",
       "      <td>None</td>\n",
       "      <td>118</td>\n",
       "      <td>2017-08-04</td>\n",
       "      <td>NaN</td>\n",
       "      <td>0.0</td>\n",
       "      <td>0.0</td>\n",
       "      <td>1.0</td>\n",
       "      <td>0.0</td>\n",
       "      <td>3.0</td>\n",
       "      <td>0.0</td>\n",
       "      <td>...</td>\n",
       "      <td>0.0</td>\n",
       "      <td>0.0</td>\n",
       "      <td>0.0</td>\n",
       "      <td>0.0</td>\n",
       "      <td>0.0</td>\n",
       "      <td>0.0</td>\n",
       "      <td>0.0</td>\n",
       "      <td>0.0</td>\n",
       "      <td>0.0</td>\n",
       "      <td>30.000000</td>\n",
       "    </tr>\n",
       "  </tbody>\n",
       "</table>\n",
       "<p>5 rows × 92 columns</p>\n",
       "</div>"
      ],
      "text/plain": [
       "                                 gender  age became_member_on    income  \\\n",
       "68be06ca386d4c31939f3a4f0e3dd783   None  118       2017-02-12       NaN   \n",
       "0610b486422d4921ae7d2bf64640c50b      F   55       2017-07-15  112000.0   \n",
       "38fe809add3b4fcf9315a9694bb96ff5   None  118       2018-07-12       NaN   \n",
       "78afa995795e4d85b5d9ceeca43f5fef      F   75       2017-05-09  100000.0   \n",
       "a03223e636434f42ac4c3df47e8bac43   None  118       2017-08-04       NaN   \n",
       "\n",
       "                                  offer received_bogo_10_10_7  \\\n",
       "68be06ca386d4c31939f3a4f0e3dd783                          0.0   \n",
       "0610b486422d4921ae7d2bf64640c50b                          0.0   \n",
       "38fe809add3b4fcf9315a9694bb96ff5                          0.0   \n",
       "78afa995795e4d85b5d9ceeca43f5fef                          1.0   \n",
       "a03223e636434f42ac4c3df47e8bac43                          0.0   \n",
       "\n",
       "                                  offer received_bogo_10_10_5  \\\n",
       "68be06ca386d4c31939f3a4f0e3dd783                          0.0   \n",
       "0610b486422d4921ae7d2bf64640c50b                          0.0   \n",
       "38fe809add3b4fcf9315a9694bb96ff5                          0.0   \n",
       "78afa995795e4d85b5d9ceeca43f5fef                          0.0   \n",
       "a03223e636434f42ac4c3df47e8bac43                          0.0   \n",
       "\n",
       "                                  offer received_informational_0_0_4  \\\n",
       "68be06ca386d4c31939f3a4f0e3dd783                                 0.0   \n",
       "0610b486422d4921ae7d2bf64640c50b                                 1.0   \n",
       "38fe809add3b4fcf9315a9694bb96ff5                                 0.0   \n",
       "78afa995795e4d85b5d9ceeca43f5fef                                 0.0   \n",
       "a03223e636434f42ac4c3df47e8bac43                                 1.0   \n",
       "\n",
       "                                  offer received_bogo_5_5_7  \\\n",
       "68be06ca386d4c31939f3a4f0e3dd783                        0.0   \n",
       "0610b486422d4921ae7d2bf64640c50b                        1.0   \n",
       "38fe809add3b4fcf9315a9694bb96ff5                        1.0   \n",
       "78afa995795e4d85b5d9ceeca43f5fef                        1.0   \n",
       "a03223e636434f42ac4c3df47e8bac43                        0.0   \n",
       "\n",
       "                                  offer received_discount_20_5_10  \\\n",
       "68be06ca386d4c31939f3a4f0e3dd783                              1.0   \n",
       "0610b486422d4921ae7d2bf64640c50b                              0.0   \n",
       "38fe809add3b4fcf9315a9694bb96ff5                              0.0   \n",
       "78afa995795e4d85b5d9ceeca43f5fef                              0.0   \n",
       "a03223e636434f42ac4c3df47e8bac43                              3.0   \n",
       "\n",
       "                                  offer received_discount_7_3_7  ...  \\\n",
       "68be06ca386d4c31939f3a4f0e3dd783                            1.0  ...   \n",
       "0610b486422d4921ae7d2bf64640c50b                            0.0  ...   \n",
       "38fe809add3b4fcf9315a9694bb96ff5                            0.0  ...   \n",
       "78afa995795e4d85b5d9ceeca43f5fef                            0.0  ...   \n",
       "a03223e636434f42ac4c3df47e8bac43                            0.0  ...   \n",
       "\n",
       "                                  rate_offer_completed_viewed_discount_10_2_10  \\\n",
       "68be06ca386d4c31939f3a4f0e3dd783                                           0.5   \n",
       "0610b486422d4921ae7d2bf64640c50b                                           0.0   \n",
       "38fe809add3b4fcf9315a9694bb96ff5                                           0.0   \n",
       "78afa995795e4d85b5d9ceeca43f5fef                                           0.0   \n",
       "a03223e636434f42ac4c3df47e8bac43                                           0.0   \n",
       "\n",
       "                                  rate_offer_completed_received_discount_10_2_10  \\\n",
       "68be06ca386d4c31939f3a4f0e3dd783                                             0.5   \n",
       "0610b486422d4921ae7d2bf64640c50b                                             0.0   \n",
       "38fe809add3b4fcf9315a9694bb96ff5                                             0.0   \n",
       "78afa995795e4d85b5d9ceeca43f5fef                                             0.0   \n",
       "a03223e636434f42ac4c3df47e8bac43                                             0.0   \n",
       "\n",
       "                                  rate_offer_viewed_informational_0_0_3  \\\n",
       "68be06ca386d4c31939f3a4f0e3dd783                                    0.0   \n",
       "0610b486422d4921ae7d2bf64640c50b                                    0.0   \n",
       "38fe809add3b4fcf9315a9694bb96ff5                                    1.0   \n",
       "78afa995795e4d85b5d9ceeca43f5fef                                    1.0   \n",
       "a03223e636434f42ac4c3df47e8bac43                                    0.0   \n",
       "\n",
       "                                  rate_offer_viewed_bogo_5_5_5  \\\n",
       "68be06ca386d4c31939f3a4f0e3dd783                           0.0   \n",
       "0610b486422d4921ae7d2bf64640c50b                           0.0   \n",
       "38fe809add3b4fcf9315a9694bb96ff5                           0.0   \n",
       "78afa995795e4d85b5d9ceeca43f5fef                           1.0   \n",
       "a03223e636434f42ac4c3df47e8bac43                           0.0   \n",
       "\n",
       "                                  rate_offer_completed_viewed_bogo_5_5_5  \\\n",
       "68be06ca386d4c31939f3a4f0e3dd783                                     0.0   \n",
       "0610b486422d4921ae7d2bf64640c50b                                     0.0   \n",
       "38fe809add3b4fcf9315a9694bb96ff5                                     0.0   \n",
       "78afa995795e4d85b5d9ceeca43f5fef                                     0.0   \n",
       "a03223e636434f42ac4c3df47e8bac43                                     0.0   \n",
       "\n",
       "                                  rate_offer_completed_received_bogo_5_5_5  \\\n",
       "68be06ca386d4c31939f3a4f0e3dd783                                       0.0   \n",
       "0610b486422d4921ae7d2bf64640c50b                                       0.0   \n",
       "38fe809add3b4fcf9315a9694bb96ff5                                       0.0   \n",
       "78afa995795e4d85b5d9ceeca43f5fef                                       0.0   \n",
       "a03223e636434f42ac4c3df47e8bac43                                       0.0   \n",
       "\n",
       "                                  rate_offer_viewed_discount_10_2_7  \\\n",
       "68be06ca386d4c31939f3a4f0e3dd783                                1.0   \n",
       "0610b486422d4921ae7d2bf64640c50b                                0.0   \n",
       "38fe809add3b4fcf9315a9694bb96ff5                                0.0   \n",
       "78afa995795e4d85b5d9ceeca43f5fef                                0.0   \n",
       "a03223e636434f42ac4c3df47e8bac43                                0.0   \n",
       "\n",
       "                                  rate_offer_completed_viewed_discount_10_2_7  \\\n",
       "68be06ca386d4c31939f3a4f0e3dd783                                          0.0   \n",
       "0610b486422d4921ae7d2bf64640c50b                                          0.0   \n",
       "38fe809add3b4fcf9315a9694bb96ff5                                          0.0   \n",
       "78afa995795e4d85b5d9ceeca43f5fef                                          0.0   \n",
       "a03223e636434f42ac4c3df47e8bac43                                          0.0   \n",
       "\n",
       "                                  rate_offer_completed_received_discount_10_2_7  \\\n",
       "68be06ca386d4c31939f3a4f0e3dd783                                            0.0   \n",
       "0610b486422d4921ae7d2bf64640c50b                                            0.0   \n",
       "38fe809add3b4fcf9315a9694bb96ff5                                            0.0   \n",
       "78afa995795e4d85b5d9ceeca43f5fef                                            0.0   \n",
       "a03223e636434f42ac4c3df47e8bac43                                            0.0   \n",
       "\n",
       "                                  transaction_completed_ratio  \n",
       "68be06ca386d4c31939f3a4f0e3dd783                     4.285714  \n",
       "0610b486422d4921ae7d2bf64640c50b                    30.000000  \n",
       "38fe809add3b4fcf9315a9694bb96ff5                    60.000000  \n",
       "78afa995795e4d85b5d9ceeca43f5fef                     3.333333  \n",
       "a03223e636434f42ac4c3df47e8bac43                    30.000000  \n",
       "\n",
       "[5 rows x 92 columns]"
      ]
     },
     "execution_count": 108,
     "metadata": {},
     "output_type": "execute_result"
    }
   ],
   "source": [
    "profile_updated.head()"
   ]
  },
  {
   "cell_type": "code",
   "execution_count": 109,
   "metadata": {},
   "outputs": [
    {
     "name": "stdout",
     "output_type": "stream",
     "text": [
      "<class 'pandas.core.frame.DataFrame'>\n",
      "Index: 17000 entries, 68be06ca386d4c31939f3a4f0e3dd783 to e4052622e5ba45a8b96b59aba68cf068\n",
      "Data columns (total 92 columns):\n",
      "gender                                            14825 non-null object\n",
      "age                                               17000 non-null int64\n",
      "became_member_on                                  17000 non-null datetime64[ns]\n",
      "income                                            14825 non-null float64\n",
      "offer received_bogo_10_10_7                       17000 non-null float64\n",
      "offer received_bogo_10_10_5                       17000 non-null float64\n",
      "offer received_informational_0_0_4                17000 non-null float64\n",
      "offer received_bogo_5_5_7                         17000 non-null float64\n",
      "offer received_discount_20_5_10                   17000 non-null float64\n",
      "offer received_discount_7_3_7                     17000 non-null float64\n",
      "offer received_discount_10_2_10                   17000 non-null float64\n",
      "offer received_informational_0_0_3                17000 non-null float64\n",
      "offer received_bogo_5_5_5                         17000 non-null float64\n",
      "offer received_discount_10_2_7                    17000 non-null float64\n",
      "offer viewed_bogo_10_10_7                         17000 non-null float64\n",
      "offer viewed_bogo_10_10_5                         17000 non-null float64\n",
      "offer viewed_informational_0_0_4                  17000 non-null float64\n",
      "offer viewed_bogo_5_5_7                           17000 non-null float64\n",
      "offer viewed_discount_20_5_10                     17000 non-null float64\n",
      "offer viewed_discount_7_3_7                       17000 non-null float64\n",
      "offer viewed_discount_10_2_10                     17000 non-null float64\n",
      "offer viewed_informational_0_0_3                  17000 non-null float64\n",
      "offer viewed_bogo_5_5_5                           17000 non-null float64\n",
      "offer viewed_discount_10_2_7                      17000 non-null float64\n",
      "offer completed_bogo_10_10_7                      17000 non-null float64\n",
      "offer completed_bogo_10_10_5                      17000 non-null float64\n",
      "offer completed_bogo_5_5_7                        17000 non-null float64\n",
      "offer completed_discount_20_5_10                  17000 non-null float64\n",
      "offer completed_discount_7_3_7                    17000 non-null float64\n",
      "offer completed_discount_10_2_10                  17000 non-null float64\n",
      "offer completed_bogo_5_5_5                        17000 non-null float64\n",
      "offer completed_discount_10_2_7                   17000 non-null float64\n",
      "bogo_10_10_7_response_time_avg                    2030 non-null float64\n",
      "bogo_10_10_5_response_time_avg                    2145 non-null float64\n",
      "bogo_5_5_7_response_time_avg                      1664 non-null float64\n",
      "discount_20_5_10_response_time_avg                1137 non-null float64\n",
      "discount_7_3_7_response_time_avg                  3471 non-null float64\n",
      "discount_10_2_10_response_time_avg                3729 non-null float64\n",
      "bogo_5_5_5_response_time_avg                      2724 non-null float64\n",
      "discount_10_2_7_response_time_avg                 1720 non-null float64\n",
      "avg_spending                                      17000 non-null float64\n",
      "transaction_count                                 17000 non-null float64\n",
      "sum_spending                                      17000 non-null float64\n",
      "invalid                                           17000 non-null float64\n",
      "bogo_received                                     17000 non-null float64\n",
      "bogo_viewed                                       17000 non-null float64\n",
      "rate_viewed_bogo                                  17000 non-null float64\n",
      "bogo_completed                                    17000 non-null float64\n",
      "rate_completed_viewed_bogo                        17000 non-null float64\n",
      "rate_completed_received_bogo                      17000 non-null float64\n",
      "discount_received                                 17000 non-null float64\n",
      "discount_viewed                                   17000 non-null float64\n",
      "rate_viewed_discount                              17000 non-null float64\n",
      "discount_completed                                17000 non-null float64\n",
      "rate_completed_viewed_discount                    17000 non-null float64\n",
      "rate_completed_received_discount                  17000 non-null float64\n",
      "informational_received                            17000 non-null float64\n",
      "informational_viewed                              17000 non-null float64\n",
      "rate_viewed_informational                         17000 non-null float64\n",
      "offer_received_total                              17000 non-null float64\n",
      "offer_viewed_total                                17000 non-null float64\n",
      "offer_completed_total                             17000 non-null float64\n",
      "rate_offer_viewed_overall                         17000 non-null float64\n",
      "rate_offer_completed_received_overall             17000 non-null float64\n",
      "rate_offer_completed_viewed_overall               17000 non-null float64\n",
      "rate_offer_viewed_bogo_10_10_7                    17000 non-null float64\n",
      "rate_offer_completed_viewed_bogo_10_10_7          17000 non-null float64\n",
      "rate_offer_completed_received_bogo_10_10_7        17000 non-null float64\n",
      "rate_offer_viewed_bogo_10_10_5                    17000 non-null float64\n",
      "rate_offer_completed_viewed_bogo_10_10_5          17000 non-null float64\n",
      "rate_offer_completed_received_bogo_10_10_5        17000 non-null float64\n",
      "rate_offer_viewed_informational_0_0_4             17000 non-null float64\n",
      "rate_offer_viewed_bogo_5_5_7                      17000 non-null float64\n",
      "rate_offer_completed_viewed_bogo_5_5_7            17000 non-null float64\n",
      "rate_offer_completed_received_bogo_5_5_7          17000 non-null float64\n",
      "rate_offer_viewed_discount_20_5_10                17000 non-null float64\n",
      "rate_offer_completed_viewed_discount_20_5_10      17000 non-null float64\n",
      "rate_offer_completed_received_discount_20_5_10    17000 non-null float64\n",
      "rate_offer_viewed_discount_7_3_7                  17000 non-null float64\n",
      "rate_offer_completed_viewed_discount_7_3_7        17000 non-null float64\n",
      "rate_offer_completed_received_discount_7_3_7      17000 non-null float64\n",
      "rate_offer_viewed_discount_10_2_10                17000 non-null float64\n",
      "rate_offer_completed_viewed_discount_10_2_10      17000 non-null float64\n",
      "rate_offer_completed_received_discount_10_2_10    17000 non-null float64\n",
      "rate_offer_viewed_informational_0_0_3             17000 non-null float64\n",
      "rate_offer_viewed_bogo_5_5_5                      17000 non-null float64\n",
      "rate_offer_completed_viewed_bogo_5_5_5            17000 non-null float64\n",
      "rate_offer_completed_received_bogo_5_5_5          17000 non-null float64\n",
      "rate_offer_viewed_discount_10_2_7                 17000 non-null float64\n",
      "rate_offer_completed_viewed_discount_10_2_7       17000 non-null float64\n",
      "rate_offer_completed_received_discount_10_2_7     17000 non-null float64\n",
      "transaction_completed_ratio                       17000 non-null float64\n",
      "dtypes: datetime64[ns](1), float64(89), int64(1), object(1)\n",
      "memory usage: 12.1+ MB\n"
     ]
    }
   ],
   "source": [
    "profile_updated.info()"
   ]
  },
  {
   "cell_type": "code",
   "execution_count": null,
   "metadata": {},
   "outputs": [],
   "source": []
  },
  {
   "cell_type": "code",
   "execution_count": null,
   "metadata": {},
   "outputs": [],
   "source": []
  },
  {
   "cell_type": "code",
   "execution_count": null,
   "metadata": {},
   "outputs": [],
   "source": []
  },
  {
   "cell_type": "code",
   "execution_count": null,
   "metadata": {},
   "outputs": [],
   "source": []
  },
  {
   "cell_type": "code",
   "execution_count": null,
   "metadata": {},
   "outputs": [],
   "source": []
  },
  {
   "cell_type": "code",
   "execution_count": null,
   "metadata": {},
   "outputs": [],
   "source": []
  },
  {
   "cell_type": "code",
   "execution_count": null,
   "metadata": {},
   "outputs": [],
   "source": []
  },
  {
   "cell_type": "code",
   "execution_count": null,
   "metadata": {},
   "outputs": [],
   "source": []
  },
  {
   "cell_type": "code",
   "execution_count": null,
   "metadata": {},
   "outputs": [],
   "source": []
  },
  {
   "cell_type": "code",
   "execution_count": null,
   "metadata": {},
   "outputs": [],
   "source": []
  },
  {
   "cell_type": "code",
   "execution_count": null,
   "metadata": {},
   "outputs": [],
   "source": []
  },
  {
   "cell_type": "code",
   "execution_count": null,
   "metadata": {},
   "outputs": [],
   "source": []
  },
  {
   "cell_type": "code",
   "execution_count": null,
   "metadata": {},
   "outputs": [],
   "source": []
  },
  {
   "cell_type": "code",
   "execution_count": null,
   "metadata": {},
   "outputs": [],
   "source": []
  },
  {
   "cell_type": "code",
   "execution_count": null,
   "metadata": {},
   "outputs": [],
   "source": []
  },
  {
   "cell_type": "code",
   "execution_count": null,
   "metadata": {},
   "outputs": [],
   "source": []
  }
 ],
 "metadata": {
  "kernelspec": {
   "display_name": "Python 3",
   "language": "python",
   "name": "python3"
  },
  "language_info": {
   "codemirror_mode": {
    "name": "ipython",
    "version": 3
   },
   "file_extension": ".py",
   "mimetype": "text/x-python",
   "name": "python",
   "nbconvert_exporter": "python",
   "pygments_lexer": "ipython3",
   "version": "3.7.4"
  }
 },
 "nbformat": 4,
 "nbformat_minor": 1
}
